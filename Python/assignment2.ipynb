{
 "cells": [
  {
   "cell_type": "code",
   "execution_count": 1,
   "id": "1b71d2c2",
   "metadata": {},
   "outputs": [],
   "source": [
    "st = 'Print only the words that start with s in this sentence'"
   ]
  },
  {
   "cell_type": "code",
   "execution_count": 2,
   "id": "32895039",
   "metadata": {},
   "outputs": [
    {
     "data": {
      "text/plain": [
       "['Print',\n",
       " 'only',\n",
       " 'the',\n",
       " 'words',\n",
       " 'that',\n",
       " 'start',\n",
       " 'with',\n",
       " 's',\n",
       " 'in',\n",
       " 'this',\n",
       " 'sentence']"
      ]
     },
     "execution_count": 2,
     "metadata": {},
     "output_type": "execute_result"
    }
   ],
   "source": [
    "st.split()"
   ]
  },
  {
   "cell_type": "code",
   "execution_count": null,
   "id": "239561b1",
   "metadata": {},
   "outputs": [],
   "source": []
  },
  {
   "cell_type": "code",
   "execution_count": 8,
   "id": "240d992a",
   "metadata": {},
   "outputs": [
    {
     "name": "stdout",
     "output_type": "stream",
     "text": [
      "start\n",
      "s\n",
      "sentence\n"
     ]
    }
   ],
   "source": [
    "for item in st.split():\n",
    "    st.split()\n",
    "    if item[0] =='s':\n",
    "        print(item)      "
   ]
  },
  {
   "cell_type": "code",
   "execution_count": 9,
   "id": "67c8334d",
   "metadata": {},
   "outputs": [
    {
     "name": "stdout",
     "output_type": "stream",
     "text": [
      "0\n",
      "2\n",
      "4\n",
      "6\n",
      "8\n",
      "10\n"
     ]
    }
   ],
   "source": [
    "for item in range(0,11):\n",
    "    if item%2 ==0:\n",
    "        print(item)"
   ]
  },
  {
   "cell_type": "code",
   "execution_count": 10,
   "id": "8500180e",
   "metadata": {},
   "outputs": [],
   "source": [
    "mylist =[]\n",
    "for item in range (1, 51):\n",
    "    if item%3 ==0:\n",
    "        mylist.append(item)\n",
    "        "
   ]
  },
  {
   "cell_type": "code",
   "execution_count": 11,
   "id": "18b4ab45",
   "metadata": {},
   "outputs": [
    {
     "data": {
      "text/plain": [
       "[3, 6, 9, 12, 15, 18, 21, 24, 27, 30, 33, 36, 39, 42, 45, 48]"
      ]
     },
     "execution_count": 11,
     "metadata": {},
     "output_type": "execute_result"
    }
   ],
   "source": [
    "mylist"
   ]
  },
  {
   "cell_type": "code",
   "execution_count": 16,
   "id": "e279c58a",
   "metadata": {},
   "outputs": [],
   "source": [
    "mylist =[x for x in range(1, 51) if x%3==0]"
   ]
  },
  {
   "cell_type": "code",
   "execution_count": 17,
   "id": "8882e154",
   "metadata": {},
   "outputs": [
    {
     "data": {
      "text/plain": [
       "[3, 6, 9, 12, 15, 18, 21, 24, 27, 30, 33, 36, 39, 42, 45, 48]"
      ]
     },
     "execution_count": 17,
     "metadata": {},
     "output_type": "execute_result"
    }
   ],
   "source": [
    "mylist"
   ]
  },
  {
   "cell_type": "code",
   "execution_count": null,
   "id": "4171a0b7",
   "metadata": {},
   "outputs": [],
   "source": [
    "st = 'Print every word in this sentence that has an even number of letters'"
   ]
  },
  {
   "cell_type": "code",
   "execution_count": 19,
   "id": "89075c16",
   "metadata": {},
   "outputs": [
    {
     "name": "stdout",
     "output_type": "stream",
     "text": [
      "only <-- has an even length!\n",
      "that <-- has an even length!\n",
      "with <-- has an even length!\n",
      "in <-- has an even length!\n",
      "this <-- has an even length!\n",
      "sentence <-- has an even length!\n"
     ]
    }
   ],
   "source": [
    "for item in st.split():\n",
    "    if len(item)%2==0:\n",
    "        print(item + \" <-- has an even length!\")"
   ]
  },
  {
   "cell_type": "code",
   "execution_count": 22,
   "id": "a306f5d0",
   "metadata": {},
   "outputs": [
    {
     "name": "stdout",
     "output_type": "stream",
     "text": [
      "1\n",
      "2\n",
      "3\n",
      "4\n",
      "Fizz\n",
      "6\n",
      "7\n",
      "8\n",
      "9\n",
      "Fizz\n",
      "11\n",
      "12\n",
      "13\n",
      "14\n",
      "FizzBuzz\n",
      "16\n",
      "17\n",
      "18\n",
      "19\n",
      "Fizz\n",
      "21\n",
      "22\n",
      "23\n",
      "24\n",
      "Fizz\n",
      "26\n",
      "27\n",
      "28\n",
      "29\n",
      "FizzBuzz\n",
      "31\n",
      "32\n",
      "33\n",
      "34\n",
      "Fizz\n",
      "36\n",
      "37\n",
      "38\n",
      "39\n",
      "Fizz\n",
      "41\n",
      "42\n",
      "43\n",
      "44\n",
      "FizzBuzz\n",
      "46\n",
      "47\n",
      "48\n",
      "49\n",
      "Fizz\n",
      "51\n",
      "52\n",
      "53\n",
      "54\n",
      "Fizz\n",
      "56\n",
      "57\n",
      "58\n",
      "59\n",
      "FizzBuzz\n",
      "61\n",
      "62\n",
      "63\n",
      "64\n",
      "Fizz\n",
      "66\n",
      "67\n",
      "68\n",
      "69\n",
      "Fizz\n",
      "71\n",
      "72\n",
      "73\n",
      "74\n",
      "FizzBuzz\n",
      "76\n",
      "77\n",
      "78\n",
      "79\n",
      "Fizz\n",
      "81\n",
      "82\n",
      "83\n",
      "84\n",
      "Fizz\n",
      "86\n",
      "87\n",
      "88\n",
      "89\n",
      "FizzBuzz\n",
      "91\n",
      "92\n",
      "93\n",
      "94\n",
      "Fizz\n",
      "96\n",
      "97\n",
      "98\n",
      "99\n",
      "Fizz\n"
     ]
    }
   ],
   "source": [
    "for i in range (1, 101):\n",
    "    if i%3==0 and i%5==0:\n",
    "        print(\"FizzBuzz\")\n",
    "    elif i%5==0:\n",
    "        print(\"Fizz\")\n",
    "    elif i%15==0:\n",
    "        print(\"Buzz\")\n",
    "    else:\n",
    "        print(i)\n",
    "        "
   ]
  },
  {
   "cell_type": "code",
   "execution_count": 23,
   "id": "872a38b0",
   "metadata": {},
   "outputs": [],
   "source": [
    "st = 'Create a list of the first letters of every word in this string'"
   ]
  },
  {
   "cell_type": "code",
   "execution_count": 24,
   "id": "8e09e6fd",
   "metadata": {},
   "outputs": [],
   "source": [
    "mylist= [x[0] for x in st.split()]"
   ]
  },
  {
   "cell_type": "code",
   "execution_count": 25,
   "id": "9f2a77ef",
   "metadata": {},
   "outputs": [
    {
     "data": {
      "text/plain": [
       "['C', 'a', 'l', 'o', 't', 'f', 'l', 'o', 'e', 'w', 'i', 't', 's']"
      ]
     },
     "execution_count": 25,
     "metadata": {},
     "output_type": "execute_result"
    }
   ],
   "source": [
    "mylist"
   ]
  }
 ],
 "metadata": {
  "kernelspec": {
   "display_name": "Python 3 (ipykernel)",
   "language": "python",
   "name": "python3"
  },
  "language_info": {
   "codemirror_mode": {
    "name": "ipython",
    "version": 3
   },
   "file_extension": ".py",
   "mimetype": "text/x-python",
   "name": "python",
   "nbconvert_exporter": "python",
   "pygments_lexer": "ipython3",
   "version": "3.9.12"
  }
 },
 "nbformat": 4,
 "nbformat_minor": 5
}
