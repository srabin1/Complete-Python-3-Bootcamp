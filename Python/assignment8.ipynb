{
 "cells": [
  {
   "cell_type": "code",
   "execution_count": 1,
   "id": "2f1e623e",
   "metadata": {},
   "outputs": [
    {
     "data": {
      "text/plain": [
       "'C:\\\\Users\\\\sanaz\\\\Python'"
      ]
     },
     "execution_count": 1,
     "metadata": {},
     "output_type": "execute_result"
    }
   ],
   "source": [
    "pwd"
   ]
  },
  {
   "cell_type": "code",
   "execution_count": 2,
   "id": "d9022ded",
   "metadata": {},
   "outputs": [],
   "source": [
    "file_path = 'C:\\\\Users\\\\sanaz\\\\Complete-Python-3-Bootcamp-master\\\\Complete-Python-3-Bootcamp-master\\\\12-Advanced Python Modules\\\\08-Advanced-Python-Module-Exercise'"
   ]
  },
  {
   "cell_type": "code",
   "execution_count": 3,
   "id": "4f7d90f1",
   "metadata": {},
   "outputs": [
    {
     "ename": "NameError",
     "evalue": "name 'ls' is not defined",
     "output_type": "error",
     "traceback": [
      "\u001b[1;31m---------------------------------------------------------------------------\u001b[0m",
      "\u001b[1;31mNameError\u001b[0m                                 Traceback (most recent call last)",
      "Input \u001b[1;32mIn [3]\u001b[0m, in \u001b[0;36m<cell line: 1>\u001b[1;34m()\u001b[0m\n\u001b[1;32m----> 1\u001b[0m \u001b[43mls\u001b[49m\u001b[38;5;241m.\u001b[39mlistdir()\n",
      "\u001b[1;31mNameError\u001b[0m: name 'ls' is not defined"
     ]
    }
   ],
   "source": [
    "ls.listdir()"
   ]
  },
  {
   "cell_type": "code",
   "execution_count": 4,
   "id": "0a2cbe22",
   "metadata": {},
   "outputs": [
    {
     "ename": "NameError",
     "evalue": "name 'os' is not defined",
     "output_type": "error",
     "traceback": [
      "\u001b[1;31m---------------------------------------------------------------------------\u001b[0m",
      "\u001b[1;31mNameError\u001b[0m                                 Traceback (most recent call last)",
      "Input \u001b[1;32mIn [4]\u001b[0m, in \u001b[0;36m<cell line: 1>\u001b[1;34m()\u001b[0m\n\u001b[1;32m----> 1\u001b[0m \u001b[43mos\u001b[49m\u001b[38;5;241m.\u001b[39mlistdir()\n",
      "\u001b[1;31mNameError\u001b[0m: name 'os' is not defined"
     ]
    }
   ],
   "source": [
    "os.listdir()"
   ]
  },
  {
   "cell_type": "code",
   "execution_count": 5,
   "id": "56a815a3",
   "metadata": {},
   "outputs": [],
   "source": [
    "import os"
   ]
  },
  {
   "cell_type": "code",
   "execution_count": 6,
   "id": "d8c2eb94",
   "metadata": {},
   "outputs": [
    {
     "data": {
      "text/plain": [
       "['.ipynb_checkpoints',\n",
       " 'Advanced Module 2.ipynb',\n",
       " 'Advanced Modules 1.ipynb',\n",
       " 'assignment2.ipynb',\n",
       " 'assignment3.ipynb',\n",
       " 'assignment4.ipynb',\n",
       " 'assignment5.ipynb',\n",
       " 'assignment6.ipynb',\n",
       " 'assignment7.ipynb',\n",
       " 'assignment8.ipynb',\n",
       " 'comp_file.zip',\n",
       " 'Decorators.ipynb',\n",
       " 'Errors and Exception Handling.ipynb',\n",
       " 'example.zip',\n",
       " 'extracted_content',\n",
       " 'fileone.txt',\n",
       " 'filetwo.txt',\n",
       " 'final_unzip',\n",
       " 'Generator.ipynb',\n",
       " 'hi sanaz you are doing great',\n",
       " 'Methods and functions.ipynb',\n",
       " 'Milestone Project1.ipynb',\n",
       " 'module.py',\n",
       " 'Modules and Packages.ipynb',\n",
       " 'More on Functions.ipynb',\n",
       " 'myfile.txt',\n",
       " 'mymodule.py',\n",
       " 'myprogram.py',\n",
       " 'new_file.txt',\n",
       " 'Object Oriented Programming.ipynb',\n",
       " 'Pylint and Unit testing.ipynb',\n",
       " 'Python_data_structure.ipynb',\n",
       " 'simple1.py',\n",
       " 'testfile',\n",
       " 'Time and Zip Module.ipynb']"
      ]
     },
     "execution_count": 6,
     "metadata": {},
     "output_type": "execute_result"
    }
   ],
   "source": [
    "os.listdir()"
   ]
  },
  {
   "cell_type": "code",
   "execution_count": 7,
   "id": "432a9ae8",
   "metadata": {},
   "outputs": [],
   "source": [
    "#change directory\n",
    "os.chdir(file_path)"
   ]
  },
  {
   "cell_type": "code",
   "execution_count": 8,
   "id": "e2b1cda2",
   "metadata": {},
   "outputs": [
    {
     "data": {
      "text/plain": [
       "['.ipynb_checkpoints',\n",
       " '07-Advanced-Modules-Exercise-Puzzle.ipynb',\n",
       " '08-Advanced-Modules-Exercise-Solutions.ipynb',\n",
       " 'extracted_content',\n",
       " 'unzip_me_for_instructions.zip']"
      ]
     },
     "execution_count": 8,
     "metadata": {},
     "output_type": "execute_result"
    }
   ],
   "source": [
    "os.listdir()"
   ]
  },
  {
   "cell_type": "code",
   "execution_count": 9,
   "id": "1dd99221",
   "metadata": {},
   "outputs": [],
   "source": [
    "import zipfile"
   ]
  },
  {
   "cell_type": "code",
   "execution_count": 10,
   "id": "3d7404e7",
   "metadata": {},
   "outputs": [],
   "source": [
    "import shutil"
   ]
  },
  {
   "cell_type": "code",
   "execution_count": 11,
   "id": "d084860a",
   "metadata": {},
   "outputs": [],
   "source": [
    "shutil.unpack_archive('unzip_me_for_instructions.zip','final_unzip', 'zip')"
   ]
  },
  {
   "cell_type": "code",
   "execution_count": 12,
   "id": "ac9ba8e1",
   "metadata": {},
   "outputs": [
    {
     "data": {
      "text/plain": [
       "['.ipynb_checkpoints',\n",
       " '07-Advanced-Modules-Exercise-Puzzle.ipynb',\n",
       " '08-Advanced-Modules-Exercise-Solutions.ipynb',\n",
       " 'extracted_content',\n",
       " 'final_unzip',\n",
       " 'unzip_me_for_instructions.zip']"
      ]
     },
     "execution_count": 12,
     "metadata": {},
     "output_type": "execute_result"
    }
   ],
   "source": [
    "os.listdir()"
   ]
  },
  {
   "cell_type": "code",
   "execution_count": 16,
   "id": "0a1540e3",
   "metadata": {},
   "outputs": [
    {
     "name": "stdout",
     "output_type": "stream",
     "text": [
      "Current folder is:C:\\Users\\sanaz\\Complete-Python-3-Bootcamp-master\\Complete-Python-3-Bootcamp-master\\12-Advanced Python Modules\\08-Advanced-Python-Module-Exercise\n",
      "\n",
      "\n",
      "The subfolders are: \n",
      "\t Subfolder: .ipynb_checkpoints\n",
      "\t Subfolder: extracted_content\n",
      "\t Subfolder: final_unzip\n",
      "\n",
      "\n",
      "the files are: \n",
      "\t File: 07-Advanced-Modules-Exercise-Puzzle.ipynb\n",
      "\t File: 08-Advanced-Modules-Exercise-Solutions.ipynb\n",
      "\t File: unzip_me_for_instructions.zip\n",
      "\n",
      "\n",
      "Current folder is:C:\\Users\\sanaz\\Complete-Python-3-Bootcamp-master\\Complete-Python-3-Bootcamp-master\\12-Advanced Python Modules\\08-Advanced-Python-Module-Exercise\\.ipynb_checkpoints\n",
      "\n",
      "\n",
      "The subfolders are: \n",
      "\n",
      "\n",
      "the files are: \n",
      "\t File: 07-Advanced-Modules-Exercise-Puzzle-checkpoint.ipynb\n",
      "\t File: 08-Advanced-Modules-Exercise-Solutions-checkpoint.ipynb\n",
      "\n",
      "\n",
      "Current folder is:C:\\Users\\sanaz\\Complete-Python-3-Bootcamp-master\\Complete-Python-3-Bootcamp-master\\12-Advanced Python Modules\\08-Advanced-Python-Module-Exercise\\extracted_content\n",
      "\n",
      "\n",
      "The subfolders are: \n",
      "\t Subfolder: Five\n",
      "\t Subfolder: Four\n",
      "\t Subfolder: One\n",
      "\t Subfolder: Three\n",
      "\t Subfolder: Two\n",
      "\n",
      "\n",
      "the files are: \n",
      "\t File: Instructions.txt\n",
      "\n",
      "\n",
      "Current folder is:C:\\Users\\sanaz\\Complete-Python-3-Bootcamp-master\\Complete-Python-3-Bootcamp-master\\12-Advanced Python Modules\\08-Advanced-Python-Module-Exercise\\extracted_content\\Five\n",
      "\n",
      "\n",
      "The subfolders are: \n",
      "\n",
      "\n",
      "the files are: \n",
      "\t File: AEITMYIRQLP.txt\n",
      "\t File: APJKSRITGGX.txt\n",
      "\t File: AQKATDFGXTS.txt\n",
      "\t File: ARLKFCWIAJE.txt\n",
      "\t File: AXJGVPVEFAS.txt\n",
      "\t File: BNUQEHCFRTG.txt\n",
      "\t File: BSKJDRNEZQM.txt\n",
      "\t File: BTYWAHLHKBM.txt\n",
      "\t File: BUGKBZWRRVI.txt\n",
      "\t File: BVBURZZCAPR.txt\n",
      "\t File: CAHBEVSVDDN.txt\n",
      "\t File: COMGMZBJAYE.txt\n",
      "\t File: CRFSDGYFSHA.txt\n",
      "\t File: CSCLFZCDYYC.txt\n",
      "\t File: CXBVCTRBBIE.txt\n",
      "\t File: DDLASODUVPX.txt\n",
      "\t File: DHZBAAYEADM.txt\n",
      "\t File: DQPZQLBCJYP.txt\n",
      "\t File: DYOPIIVMZOO.txt\n",
      "\t File: DZUWWXYIAEL.txt\n",
      "\t File: EAAOEPSAWMQ.txt\n",
      "\t File: EIPWXMQZJKU.txt\n",
      "\t File: ESIZWBHMGDP.txt\n",
      "\t File: ETCUEXWNBCF.txt\n",
      "\t File: EYTCGIOYWIW.txt\n",
      "\n",
      "\n",
      "Current folder is:C:\\Users\\sanaz\\Complete-Python-3-Bootcamp-master\\Complete-Python-3-Bootcamp-master\\12-Advanced Python Modules\\08-Advanced-Python-Module-Exercise\\extracted_content\\Four\n",
      "\n",
      "\n",
      "The subfolders are: \n",
      "\n",
      "\n",
      "the files are: \n",
      "\t File: ECIOBYCDVFI.txt\n",
      "\t File: EMTGPSXQEJX.txt\n",
      "\t File: EPRNUHRSESC.txt\n",
      "\t File: ESDIZXHYCVY.txt\n",
      "\t File: EXVQSVBQQQH.txt\n",
      "\t File: QCTCKDIBBVG.txt\n",
      "\t File: QCWCFLKNZMN.txt\n",
      "\t File: QDDETWBHJYC.txt\n",
      "\t File: QTDYYIFPHAU.txt\n",
      "\t File: QVNJULGXNUM.txt\n",
      "\t File: REAXWSOIQDY.txt\n",
      "\t File: ROICPTWKXDX.txt\n",
      "\t File: RSXOTNGKBML.txt\n",
      "\t File: RXDARIDGKBF.txt\n",
      "\t File: RYNXFYXMKHG.txt\n",
      "\t File: TAKNAVDMZKV.txt\n",
      "\t File: THPNEGKTJWI.txt\n",
      "\t File: TJFMLJODVAD.txt\n",
      "\t File: TKCZSFQNJTX.txt\n",
      "\t File: TWUOYFCCYBQ.txt\n",
      "\t File: WFSKPTXPFCH.txt\n",
      "\t File: WHTOHQUWXIN.txt\n",
      "\t File: WNJISWPEBRS.txt\n",
      "\t File: WXDJDOGZEHN.txt\n",
      "\t File: WYDLGSGGXKV.txt\n",
      "\n",
      "\n",
      "Current folder is:C:\\Users\\sanaz\\Complete-Python-3-Bootcamp-master\\Complete-Python-3-Bootcamp-master\\12-Advanced Python Modules\\08-Advanced-Python-Module-Exercise\\extracted_content\\One\n",
      "\n",
      "\n",
      "The subfolders are: \n",
      "\n",
      "\n",
      "the files are: \n",
      "\t File: HDOHZHFSTTK.txt\n",
      "\t File: HFUTPPAXDIS.txt\n",
      "\t File: HMNZTLIFGPD.txt\n",
      "\t File: HRQFTHKVJTL.txt\n",
      "\t File: HVUTZEVMSBW.txt\n",
      "\t File: JDLRVFCXYLU.txt\n",
      "\t File: JEHBLZPUPSP.txt\n",
      "\t File: JLTXKIGCWDL.txt\n",
      "\t File: JQUOBKFUACN.txt\n",
      "\t File: JTHSNBNPQSE.txt\n",
      "\t File: KCXGNQCZBLO.txt\n",
      "\t File: KFIUZFERLET.txt\n",
      "\t File: KMMLGJOWLGI.txt\n",
      "\t File: KNBSKDREHQU.txt\n",
      "\t File: KTXDHIOKAUI.txt\n",
      "\t File: LDGOCUQJNNS.txt\n",
      "\t File: LFEATJAAYDC.txt\n",
      "\t File: LHODFIKVTQA.txt\n",
      "\t File: LIFDHOFKWOI.txt\n",
      "\t File: LPNDVDXPZIG.txt\n",
      "\t File: PDJMSMNKIRM.txt\n",
      "\t File: PHWAVPEKAER.txt\n",
      "\t File: PLYCGPVEAWO.txt\n",
      "\t File: PQNVCVJINAR.txt\n",
      "\t File: PTOBBCJYURJ.txt\n",
      "\n",
      "\n",
      "Current folder is:C:\\Users\\sanaz\\Complete-Python-3-Bootcamp-master\\Complete-Python-3-Bootcamp-master\\12-Advanced Python Modules\\08-Advanced-Python-Module-Exercise\\extracted_content\\Three\n",
      "\n",
      "\n",
      "The subfolders are: \n",
      "\n",
      "\n",
      "the files are: \n",
      "\t File: VAQIJTDOFUJ.txt\n",
      "\t File: VCFJCGJFBIH.txt\n",
      "\t File: VSXFSTABZDY.txt\n",
      "\t File: VVHFVZUNLOO.txt\n",
      "\t File: VVKGWLRMHLU.txt\n",
      "\t File: XAJMCPEWFNI.txt\n",
      "\t File: XFHJOTNPEJG.txt\n",
      "\t File: XHZPVUQTXIO.txt\n",
      "\t File: XJCWENFFGHB.txt\n",
      "\t File: XVMPVSVYKFR.txt\n",
      "\t File: YCESZHJDBXH.txt\n",
      "\t File: YDQFMWXOUMW.txt\n",
      "\t File: YQBIUHSUEVW.txt\n",
      "\t File: YQRNCMNFFHW.txt\n",
      "\t File: YYIZGBTQHZP.txt\n",
      "\t File: ZEZKKRBIZEB.txt\n",
      "\t File: ZKQJXAYKPVD.txt\n",
      "\t File: ZOWVXWPOGWP.txt\n",
      "\t File: ZXEZRQXZNPG.txt\n",
      "\t File: ZXIBJMPROKW.txt\n",
      "\n",
      "\n",
      "Current folder is:C:\\Users\\sanaz\\Complete-Python-3-Bootcamp-master\\Complete-Python-3-Bootcamp-master\\12-Advanced Python Modules\\08-Advanced-Python-Module-Exercise\\extracted_content\\Two\n",
      "\n",
      "\n",
      "The subfolders are: \n",
      "\n",
      "\n",
      "the files are: \n",
      "\t File: GKQBQRCTNNK.txt\n",
      "\t File: GMMQQUBMJNR.txt\n",
      "\t File: GQTJJORZBXY.txt\n",
      "\t File: GTOTCIWMDBY.txt\n",
      "\t File: GXYSEPAFRTP.txt\n",
      "\t File: HARDNJGDRBC.txt\n",
      "\t File: HEORIXOTANT.txt\n",
      "\t File: HMUTDOVNYTV.txt\n",
      "\t File: HMZXPBOPRAE.txt\n",
      "\t File: HTOHSTYXTCO.txt\n",
      "\t File: LCJZYDHBFRM.txt\n",
      "\t File: LSQSTGPIGIY.txt\n",
      "\t File: LULTNYAQEJG.txt\n",
      "\t File: LVMBINRBJXL.txt\n",
      "\t File: LYZEQCVYNEZ.txt\n",
      "\t File: OHZOUOSFJQC.txt\n",
      "\t File: OIHMLGMWTHL.txt\n",
      "\t File: OKWFOOYTXFU.txt\n",
      "\t File: OMWIMVRCMYM.txt\n",
      "\t File: OYMAGXAGWHJ.txt\n",
      "\t File: SIKFPPLCJDN.txt\n",
      "\t File: SJMJLDGPBSJ.txt\n",
      "\t File: SOFUJYXTIMK.txt\n",
      "\t File: SPDZYGDHEWO.txt\n",
      "\t File: SWOFXREEHWA.txt\n",
      "\n",
      "\n",
      "Current folder is:C:\\Users\\sanaz\\Complete-Python-3-Bootcamp-master\\Complete-Python-3-Bootcamp-master\\12-Advanced Python Modules\\08-Advanced-Python-Module-Exercise\\final_unzip\n",
      "\n",
      "\n",
      "The subfolders are: \n",
      "\t Subfolder: extracted_content\n",
      "\n",
      "\n",
      "the files are: \n",
      "\n",
      "\n",
      "Current folder is:C:\\Users\\sanaz\\Complete-Python-3-Bootcamp-master\\Complete-Python-3-Bootcamp-master\\12-Advanced Python Modules\\08-Advanced-Python-Module-Exercise\\final_unzip\\extracted_content\n",
      "\n",
      "\n",
      "The subfolders are: \n",
      "\t Subfolder: Five\n",
      "\t Subfolder: Four\n",
      "\t Subfolder: One\n",
      "\t Subfolder: Three\n",
      "\t Subfolder: Two\n",
      "\n",
      "\n",
      "the files are: \n",
      "\t File: Instructions.txt\n",
      "\n",
      "\n",
      "Current folder is:C:\\Users\\sanaz\\Complete-Python-3-Bootcamp-master\\Complete-Python-3-Bootcamp-master\\12-Advanced Python Modules\\08-Advanced-Python-Module-Exercise\\final_unzip\\extracted_content\\Five\n",
      "\n",
      "\n",
      "The subfolders are: \n",
      "\n",
      "\n",
      "the files are: \n",
      "\t File: AEITMYIRQLP.txt\n",
      "\t File: APJKSRITGGX.txt\n",
      "\t File: AQKATDFGXTS.txt\n",
      "\t File: ARLKFCWIAJE.txt\n",
      "\t File: AXJGVPVEFAS.txt\n",
      "\t File: BNUQEHCFRTG.txt\n",
      "\t File: BSKJDRNEZQM.txt\n",
      "\t File: BTYWAHLHKBM.txt\n",
      "\t File: BUGKBZWRRVI.txt\n",
      "\t File: BVBURZZCAPR.txt\n",
      "\t File: CAHBEVSVDDN.txt\n",
      "\t File: COMGMZBJAYE.txt\n",
      "\t File: CRFSDGYFSHA.txt\n",
      "\t File: CSCLFZCDYYC.txt\n",
      "\t File: CXBVCTRBBIE.txt\n",
      "\t File: DDLASODUVPX.txt\n",
      "\t File: DHZBAAYEADM.txt\n",
      "\t File: DQPZQLBCJYP.txt\n",
      "\t File: DYOPIIVMZOO.txt\n",
      "\t File: DZUWWXYIAEL.txt\n",
      "\t File: EAAOEPSAWMQ.txt\n",
      "\t File: EIPWXMQZJKU.txt\n",
      "\t File: ESIZWBHMGDP.txt\n",
      "\t File: ETCUEXWNBCF.txt\n",
      "\t File: EYTCGIOYWIW.txt\n",
      "\n",
      "\n",
      "Current folder is:C:\\Users\\sanaz\\Complete-Python-3-Bootcamp-master\\Complete-Python-3-Bootcamp-master\\12-Advanced Python Modules\\08-Advanced-Python-Module-Exercise\\final_unzip\\extracted_content\\Four\n",
      "\n",
      "\n",
      "The subfolders are: \n",
      "\n",
      "\n",
      "the files are: \n",
      "\t File: ECIOBYCDVFI.txt\n",
      "\t File: EMTGPSXQEJX.txt\n",
      "\t File: EPRNUHRSESC.txt\n",
      "\t File: ESDIZXHYCVY.txt\n",
      "\t File: EXVQSVBQQQH.txt\n",
      "\t File: QCTCKDIBBVG.txt\n",
      "\t File: QCWCFLKNZMN.txt\n",
      "\t File: QDDETWBHJYC.txt\n",
      "\t File: QTDYYIFPHAU.txt\n",
      "\t File: QVNJULGXNUM.txt\n",
      "\t File: REAXWSOIQDY.txt\n",
      "\t File: ROICPTWKXDX.txt\n",
      "\t File: RSXOTNGKBML.txt\n",
      "\t File: RXDARIDGKBF.txt\n",
      "\t File: RYNXFYXMKHG.txt\n",
      "\t File: TAKNAVDMZKV.txt\n",
      "\t File: THPNEGKTJWI.txt\n",
      "\t File: TJFMLJODVAD.txt\n",
      "\t File: TKCZSFQNJTX.txt\n",
      "\t File: TWUOYFCCYBQ.txt\n",
      "\t File: WFSKPTXPFCH.txt\n",
      "\t File: WHTOHQUWXIN.txt\n",
      "\t File: WNJISWPEBRS.txt\n",
      "\t File: WXDJDOGZEHN.txt\n",
      "\t File: WYDLGSGGXKV.txt\n",
      "\n",
      "\n",
      "Current folder is:C:\\Users\\sanaz\\Complete-Python-3-Bootcamp-master\\Complete-Python-3-Bootcamp-master\\12-Advanced Python Modules\\08-Advanced-Python-Module-Exercise\\final_unzip\\extracted_content\\One\n",
      "\n",
      "\n",
      "The subfolders are: \n",
      "\n",
      "\n",
      "the files are: \n",
      "\t File: HDOHZHFSTTK.txt\n",
      "\t File: HFUTPPAXDIS.txt\n",
      "\t File: HMNZTLIFGPD.txt\n",
      "\t File: HRQFTHKVJTL.txt\n",
      "\t File: HVUTZEVMSBW.txt\n",
      "\t File: JDLRVFCXYLU.txt\n",
      "\t File: JEHBLZPUPSP.txt\n",
      "\t File: JLTXKIGCWDL.txt\n",
      "\t File: JQUOBKFUACN.txt\n",
      "\t File: JTHSNBNPQSE.txt\n",
      "\t File: KCXGNQCZBLO.txt\n",
      "\t File: KFIUZFERLET.txt\n",
      "\t File: KMMLGJOWLGI.txt\n",
      "\t File: KNBSKDREHQU.txt\n",
      "\t File: KTXDHIOKAUI.txt\n",
      "\t File: LDGOCUQJNNS.txt\n",
      "\t File: LFEATJAAYDC.txt\n",
      "\t File: LHODFIKVTQA.txt\n",
      "\t File: LIFDHOFKWOI.txt\n",
      "\t File: LPNDVDXPZIG.txt\n",
      "\t File: PDJMSMNKIRM.txt\n",
      "\t File: PHWAVPEKAER.txt\n",
      "\t File: PLYCGPVEAWO.txt\n",
      "\t File: PQNVCVJINAR.txt\n",
      "\t File: PTOBBCJYURJ.txt\n",
      "\n",
      "\n",
      "Current folder is:C:\\Users\\sanaz\\Complete-Python-3-Bootcamp-master\\Complete-Python-3-Bootcamp-master\\12-Advanced Python Modules\\08-Advanced-Python-Module-Exercise\\final_unzip\\extracted_content\\Three\n",
      "\n",
      "\n",
      "The subfolders are: \n",
      "\n",
      "\n",
      "the files are: \n",
      "\t File: VAQIJTDOFUJ.txt\n",
      "\t File: VCFJCGJFBIH.txt\n",
      "\t File: VSXFSTABZDY.txt\n",
      "\t File: VVHFVZUNLOO.txt\n",
      "\t File: VVKGWLRMHLU.txt\n",
      "\t File: XAJMCPEWFNI.txt\n",
      "\t File: XFHJOTNPEJG.txt\n",
      "\t File: XHZPVUQTXIO.txt\n",
      "\t File: XJCWENFFGHB.txt\n",
      "\t File: XVMPVSVYKFR.txt\n",
      "\t File: YCESZHJDBXH.txt\n",
      "\t File: YDQFMWXOUMW.txt\n",
      "\t File: YQBIUHSUEVW.txt\n",
      "\t File: YQRNCMNFFHW.txt\n",
      "\t File: YYIZGBTQHZP.txt\n",
      "\t File: ZEZKKRBIZEB.txt\n",
      "\t File: ZKQJXAYKPVD.txt\n",
      "\t File: ZOWVXWPOGWP.txt\n",
      "\t File: ZXEZRQXZNPG.txt\n",
      "\t File: ZXIBJMPROKW.txt\n",
      "\n",
      "\n",
      "Current folder is:C:\\Users\\sanaz\\Complete-Python-3-Bootcamp-master\\Complete-Python-3-Bootcamp-master\\12-Advanced Python Modules\\08-Advanced-Python-Module-Exercise\\final_unzip\\extracted_content\\Two\n",
      "\n",
      "\n",
      "The subfolders are: \n",
      "\n",
      "\n",
      "the files are: \n",
      "\t File: GKQBQRCTNNK.txt\n",
      "\t File: GMMQQUBMJNR.txt\n",
      "\t File: GQTJJORZBXY.txt\n",
      "\t File: GTOTCIWMDBY.txt\n",
      "\t File: GXYSEPAFRTP.txt\n",
      "\t File: HARDNJGDRBC.txt\n",
      "\t File: HEORIXOTANT.txt\n",
      "\t File: HMUTDOVNYTV.txt\n",
      "\t File: HMZXPBOPRAE.txt\n",
      "\t File: HTOHSTYXTCO.txt\n",
      "\t File: LCJZYDHBFRM.txt\n",
      "\t File: LSQSTGPIGIY.txt\n",
      "\t File: LULTNYAQEJG.txt\n",
      "\t File: LVMBINRBJXL.txt\n",
      "\t File: LYZEQCVYNEZ.txt\n",
      "\t File: OHZOUOSFJQC.txt\n",
      "\t File: OIHMLGMWTHL.txt\n",
      "\t File: OKWFOOYTXFU.txt\n",
      "\t File: OMWIMVRCMYM.txt\n",
      "\t File: OYMAGXAGWHJ.txt\n",
      "\t File: SIKFPPLCJDN.txt\n",
      "\t File: SJMJLDGPBSJ.txt\n",
      "\t File: SOFUJYXTIMK.txt\n",
      "\t File: SPDZYGDHEWO.txt\n",
      "\t File: SWOFXREEHWA.txt\n",
      "\n",
      "\n"
     ]
    }
   ],
   "source": [
    "for folder, sub_folders, files in os.walk(file_path):\n",
    "    print(f\"Current folder is:{folder}\")\n",
    "    print(\"\\n\")\n",
    "    print(\"The subfolders are: \")\n",
    "    for sub_fold in sub_folders:\n",
    "        print(f\"\\t Subfolder: {sub_fold}\")\n",
    "    print(\"\\n\")\n",
    "    print(\"the files are: \")\n",
    "    for f in files:\n",
    "        print(f\"\\t File: {f}\")\n",
    "    print(\"\\n\")"
   ]
  },
  {
   "cell_type": "code",
   "execution_count": 18,
   "id": "2904ed62",
   "metadata": {},
   "outputs": [
    {
     "name": "stdout",
     "output_type": "stream",
     "text": [
      "Good work on unzipping the file!\n",
      "You should now see 5 folders, each with a lot of random .txt files.\n",
      "Within one of these text files is a telephone number formated ###-###-#### \n",
      "Use the Python os module and regular expressions to iterate through each file, open it, and search for a telephone number.\n",
      "Good luck!\n"
     ]
    }
   ],
   "source": [
    "with open ('extracted_content/Instructions.txt') as f:\n",
    "    content = f.read()\n",
    "    print(content)"
   ]
  },
  {
   "cell_type": "code",
   "execution_count": 19,
   "id": "6d8ad556",
   "metadata": {},
   "outputs": [],
   "source": [
    "import re"
   ]
  },
  {
   "cell_type": "code",
   "execution_count": 28,
   "id": "d8380a50",
   "metadata": {},
   "outputs": [],
   "source": [
    "pattern = r'\\d{3}-\\d{3}-\\d{4}'"
   ]
  },
  {
   "cell_type": "code",
   "execution_count": 29,
   "id": "e7401202",
   "metadata": {},
   "outputs": [],
   "source": [
    "test_string = 'here is a phone number 123-123-1234'"
   ]
  },
  {
   "cell_type": "code",
   "execution_count": 30,
   "id": "72807976",
   "metadata": {},
   "outputs": [
    {
     "data": {
      "text/plain": [
       "['123-123-1234']"
      ]
     },
     "execution_count": 30,
     "metadata": {},
     "output_type": "execute_result"
    }
   ],
   "source": [
    "re.findall(pattern, test_string)"
   ]
  },
  {
   "cell_type": "code",
   "execution_count": 32,
   "id": "b2a809cc",
   "metadata": {},
   "outputs": [],
   "source": [
    "def search(file, pattern = r'\\d{3}-\\d{3}-\\d{4}'):\n",
    "    f = open(file, 'r')\n",
    "    text = f.read()\n",
    "    \n",
    "    if re.search(pattern, text):\n",
    "        return re.search(pattern, text)\n",
    "    else:\n",
    "        return ''"
   ]
  },
  {
   "cell_type": "code",
   "execution_count": 33,
   "id": "ae44d2a0",
   "metadata": {},
   "outputs": [],
   "source": [
    "import os"
   ]
  },
  {
   "cell_type": "code",
   "execution_count": 34,
   "id": "d1f2e78c",
   "metadata": {},
   "outputs": [],
   "source": [
    "results = []"
   ]
  },
  {
   "cell_type": "code",
   "execution_count": 36,
   "id": "1881139f",
   "metadata": {},
   "outputs": [],
   "source": [
    "for folder, sub_folders, files in os.walk(os.getcwd()+ '\\\\extracted_content'):\n",
    "    \n",
    "    for f in files:\n",
    "        full_path = folder + '\\\\'+ f\n",
    "        results.append(search(full_path))"
   ]
  },
  {
   "cell_type": "code",
   "execution_count": 38,
   "id": "ce8b00a6",
   "metadata": {},
   "outputs": [
    {
     "name": "stdout",
     "output_type": "stream",
     "text": [
      "719-266-2837\n"
     ]
    }
   ],
   "source": [
    "for r in results:\n",
    "    if r != '':\n",
    "        print(r.group())"
   ]
  },
  {
   "cell_type": "code",
   "execution_count": null,
   "id": "4541c89a",
   "metadata": {},
   "outputs": [],
   "source": []
  }
 ],
 "metadata": {
  "kernelspec": {
   "display_name": "Python 3 (ipykernel)",
   "language": "python",
   "name": "python3"
  },
  "language_info": {
   "codemirror_mode": {
    "name": "ipython",
    "version": 3
   },
   "file_extension": ".py",
   "mimetype": "text/x-python",
   "name": "python",
   "nbconvert_exporter": "python",
   "pygments_lexer": "ipython3",
   "version": "3.9.12"
  }
 },
 "nbformat": 4,
 "nbformat_minor": 5
}
