{
 "cells": [
  {
   "cell_type": "markdown",
   "id": "dee29d64",
   "metadata": {},
   "source": [
    "# Python GUI (user interface)"
   ]
  },
  {
   "cell_type": "code",
   "execution_count": 3,
   "id": "0fca40b9",
   "metadata": {},
   "outputs": [],
   "source": [
    "from ipywidgets import interact, interactive, fixed\n",
    "import ipywidgets as widgets"
   ]
  },
  {
   "cell_type": "code",
   "execution_count": 4,
   "id": "7f10a088",
   "metadata": {},
   "outputs": [],
   "source": [
    "def func(x):\n",
    "    return x"
   ]
  },
  {
   "cell_type": "code",
   "execution_count": 5,
   "id": "7d64711a",
   "metadata": {},
   "outputs": [
    {
     "data": {
      "application/vnd.jupyter.widget-view+json": {
       "model_id": "91b63ad6cfed4920a14c2fded7bbfe1f",
       "version_major": 2,
       "version_minor": 0
      },
      "text/plain": [
       "interactive(children=(IntSlider(value=10, description='x', max=30, min=-10), Output()), _dom_classes=('widget-…"
      ]
     },
     "metadata": {},
     "output_type": "display_data"
    },
    {
     "data": {
      "text/plain": [
       "<function __main__.func(x)>"
      ]
     },
     "execution_count": 5,
     "metadata": {},
     "output_type": "execute_result"
    }
   ],
   "source": [
    "interact(func, x= 10)"
   ]
  },
  {
   "cell_type": "code",
   "execution_count": 8,
   "id": "4406e2b8",
   "metadata": {},
   "outputs": [],
   "source": [
    "def func(x):\n",
    "    return x**2"
   ]
  },
  {
   "cell_type": "code",
   "execution_count": 9,
   "id": "88f26ab1",
   "metadata": {},
   "outputs": [
    {
     "data": {
      "application/vnd.jupyter.widget-view+json": {
       "model_id": "6821f45bd3d944ae9b606385a14d13da",
       "version_major": 2,
       "version_minor": 0
      },
      "text/plain": [
       "interactive(children=(IntSlider(value=10, description='x', max=30, min=-10), Output()), _dom_classes=('widget-…"
      ]
     },
     "metadata": {},
     "output_type": "display_data"
    },
    {
     "data": {
      "text/plain": [
       "<function __main__.func(x)>"
      ]
     },
     "execution_count": 9,
     "metadata": {},
     "output_type": "execute_result"
    }
   ],
   "source": [
    "interact(func, x = 10)"
   ]
  },
  {
   "cell_type": "code",
   "execution_count": 10,
   "id": "8c6ca857",
   "metadata": {},
   "outputs": [],
   "source": [
    "def func(x):\n",
    "    return x"
   ]
  },
  {
   "cell_type": "code",
   "execution_count": 11,
   "id": "ec80be30",
   "metadata": {},
   "outputs": [
    {
     "data": {
      "application/vnd.jupyter.widget-view+json": {
       "model_id": "02c9186ae8794a06a16272db1755c83a",
       "version_major": 2,
       "version_minor": 0
      },
      "text/plain": [
       "interactive(children=(Checkbox(value=True, description='x'), Output()), _dom_classes=('widget-interact',))"
      ]
     },
     "metadata": {},
     "output_type": "display_data"
    },
    {
     "data": {
      "text/plain": [
       "<function __main__.func(x)>"
      ]
     },
     "execution_count": 11,
     "metadata": {},
     "output_type": "execute_result"
    }
   ],
   "source": [
    "interact(func, x = True) # create a boolean"
   ]
  },
  {
   "cell_type": "code",
   "execution_count": 12,
   "id": "08d3efc2",
   "metadata": {},
   "outputs": [
    {
     "data": {
      "application/vnd.jupyter.widget-view+json": {
       "model_id": "eb70f5d272ab4a29b2ca743d1ea1d68f",
       "version_major": 2,
       "version_minor": 0
      },
      "text/plain": [
       "interactive(children=(Text(value='Hello', description='x'), Output()), _dom_classes=('widget-interact',))"
      ]
     },
     "metadata": {},
     "output_type": "display_data"
    },
    {
     "data": {
      "text/plain": [
       "<function __main__.func(x)>"
      ]
     },
     "execution_count": 12,
     "metadata": {},
     "output_type": "execute_result"
    }
   ],
   "source": [
    "interact(func, x = 'Hello')"
   ]
  },
  {
   "cell_type": "code",
   "execution_count": 13,
   "id": "2846a5da",
   "metadata": {},
   "outputs": [
    {
     "data": {
      "application/vnd.jupyter.widget-view+json": {
       "model_id": "4ae72a8c74154713a8805c15382fc5f3",
       "version_major": 2,
       "version_minor": 0
      },
      "text/plain": [
       "interactive(children=(Checkbox(value=True, description='x'), FloatSlider(value=1.0, description='y', max=3.0, …"
      ]
     },
     "metadata": {},
     "output_type": "display_data"
    }
   ],
   "source": [
    "# we can do the same with decorator\n",
    "@interact(x= True, y = 1.0)\n",
    "def g(x,y):\n",
    "    return (x,y)"
   ]
  },
  {
   "cell_type": "code",
   "execution_count": 15,
   "id": "51c339d1",
   "metadata": {},
   "outputs": [
    {
     "data": {
      "application/vnd.jupyter.widget-view+json": {
       "model_id": "e63b9d1819474142afdba4c2c0f8efb1",
       "version_major": 2,
       "version_minor": 0
      },
      "text/plain": [
       "interactive(children=(Checkbox(value=True, description='x'), Output()), _dom_classes=('widget-interact',))"
      ]
     },
     "metadata": {},
     "output_type": "display_data"
    }
   ],
   "source": [
    "# we can fix one of the variables\n",
    "@interact(x= True, y = fixed(1.0)) #fixed is also working inside the interace function\n",
    "def g(x,y):\n",
    "    return (x,y)\n"
   ]
  },
  {
   "cell_type": "code",
   "execution_count": 18,
   "id": "a1ef21a3",
   "metadata": {},
   "outputs": [
    {
     "data": {
      "application/vnd.jupyter.widget-view+json": {
       "model_id": "183042bf7cfc48c98e1ca9cdb32e515e",
       "version_major": 2,
       "version_minor": 0
      },
      "text/plain": [
       "interactive(children=(IntSlider(value=0, description='x', min=-100), Output()), _dom_classes=('widget-interact…"
      ]
     },
     "metadata": {},
     "output_type": "display_data"
    },
    {
     "data": {
      "text/plain": [
       "<function __main__.func(x)>"
      ]
     },
     "execution_count": 18,
     "metadata": {},
     "output_type": "execute_result"
    }
   ],
   "source": [
    "#how to change the minimum and maximum of slider?\n",
    "interact (func, x = widgets.IntSlider(min = -100, max = 100, step= 1, value = 0))"
   ]
  },
  {
   "cell_type": "code",
   "execution_count": 20,
   "id": "f11664ed",
   "metadata": {},
   "outputs": [
    {
     "data": {
      "application/vnd.jupyter.widget-view+json": {
       "model_id": "ca7f65e4f40b4d08ad16ffe45ae81c65",
       "version_major": 2,
       "version_minor": 0
      },
      "text/plain": [
       "interactive(children=(IntSlider(value=0, description='x', min=-100), Output()), _dom_classes=('widget-interact…"
      ]
     },
     "metadata": {},
     "output_type": "display_data"
    },
    {
     "data": {
      "text/plain": [
       "<function __main__.func(x)>"
      ]
     },
     "execution_count": 20,
     "metadata": {},
     "output_type": "execute_result"
    }
   ],
   "source": [
    "# Widget abbreviation\n",
    "interact(func, x = (-100, 100, 1)) # same result as above"
   ]
  },
  {
   "cell_type": "code",
   "execution_count": 22,
   "id": "104f6906",
   "metadata": {},
   "outputs": [
    {
     "data": {
      "application/vnd.jupyter.widget-view+json": {
       "model_id": "7a5c1e54b99548d1a1ead3ca909447bb",
       "version_major": 2,
       "version_minor": 0
      },
      "text/plain": [
       "interactive(children=(FloatSlider(value=0.0, description='x', max=10.0, min=-10.0), Output()), _dom_classes=('…"
      ]
     },
     "metadata": {},
     "output_type": "display_data"
    },
    {
     "data": {
      "text/plain": [
       "<function __main__.func(x)>"
      ]
     },
     "execution_count": 22,
     "metadata": {},
     "output_type": "execute_result"
    }
   ],
   "source": [
    "#float slider\n",
    "interact(func, x = (-10.0, 10.0, .1))"
   ]
  },
  {
   "cell_type": "code",
   "execution_count": 23,
   "id": "7b191b0a",
   "metadata": {},
   "outputs": [
    {
     "data": {
      "application/vnd.jupyter.widget-view+json": {
       "model_id": "8e97b7f519f64f639aad90e806c89a6c",
       "version_major": 2,
       "version_minor": 0
      },
      "text/plain": [
       "interactive(children=(FloatSlider(value=5.0, description='x', max=20.0, step=0.5), Output()), _dom_classes=('w…"
      ]
     },
     "metadata": {},
     "output_type": "display_data"
    }
   ],
   "source": [
    "# do the same with interact decorator\n",
    "@interact(x = (0.0, 20.0,.5))\n",
    "def h(x = 5.0):\n",
    "    return x"
   ]
  },
  {
   "cell_type": "code",
   "execution_count": 24,
   "id": "a0b7c6ff",
   "metadata": {},
   "outputs": [
    {
     "data": {
      "application/vnd.jupyter.widget-view+json": {
       "model_id": "21c44b65c85040a69b30aa963ca97284",
       "version_major": 2,
       "version_minor": 0
      },
      "text/plain": [
       "interactive(children=(Text(value='hello', description='x'), Output()), _dom_classes=('widget-interact',))"
      ]
     },
     "metadata": {},
     "output_type": "display_data"
    },
    {
     "data": {
      "text/plain": [
       "<function __main__.func(x)>"
      ]
     },
     "execution_count": 24,
     "metadata": {},
     "output_type": "execute_result"
    }
   ],
   "source": [
    "interact(func, x = 'hello')"
   ]
  },
  {
   "cell_type": "code",
   "execution_count": 26,
   "id": "fc5f5957",
   "metadata": {},
   "outputs": [
    {
     "data": {
      "application/vnd.jupyter.widget-view+json": {
       "model_id": "4ce47be0300e44a2aa75b25d93198115",
       "version_major": 2,
       "version_minor": 0
      },
      "text/plain": [
       "interactive(children=(Dropdown(description='x', options=('hello', 'option 2', 'option 3'), value='hello'), Out…"
      ]
     },
     "metadata": {},
     "output_type": "display_data"
    },
    {
     "data": {
      "text/plain": [
       "<function __main__.func(x)>"
      ]
     },
     "execution_count": 26,
     "metadata": {},
     "output_type": "execute_result"
    }
   ],
   "source": [
    "# Create a drop done menu\n",
    "interact(func, x = ['hello', 'option 2', 'option 3'])"
   ]
  },
  {
   "cell_type": "code",
   "execution_count": 27,
   "id": "dbd0fd1d",
   "metadata": {},
   "outputs": [
    {
     "data": {
      "application/vnd.jupyter.widget-view+json": {
       "model_id": "f0fb5012b8564fa8911ae7b8f4dae86e",
       "version_major": 2,
       "version_minor": 0
      },
      "text/plain": [
       "interactive(children=(Dropdown(description='x', options={'one': 10, 'two': 20}, value=10), Output()), _dom_cla…"
      ]
     },
     "metadata": {},
     "output_type": "display_data"
    },
    {
     "data": {
      "text/plain": [
       "<function __main__.func(x)>"
      ]
     },
     "execution_count": 27,
     "metadata": {},
     "output_type": "execute_result"
    }
   ],
   "source": [
    "interact(func, x = {'one': 10, 'two': 20})"
   ]
  },
  {
   "cell_type": "code",
   "execution_count": 33,
   "id": "1fc94606",
   "metadata": {},
   "outputs": [],
   "source": [
    "from IPython.display import display\n",
    "def f(a,b):\n",
    "    display(a + b)\n",
    "    return a + b"
   ]
  },
  {
   "cell_type": "code",
   "execution_count": 34,
   "id": "671f4ac1",
   "metadata": {},
   "outputs": [],
   "source": [
    "w = interactive(f, a = 10, b = 20)"
   ]
  },
  {
   "cell_type": "code",
   "execution_count": 35,
   "id": "e4f66959",
   "metadata": {},
   "outputs": [
    {
     "data": {
      "text/plain": [
       "ipywidgets.widgets.interaction.interactive"
      ]
     },
     "execution_count": 35,
     "metadata": {},
     "output_type": "execute_result"
    }
   ],
   "source": [
    "type(w)"
   ]
  },
  {
   "cell_type": "code",
   "execution_count": 36,
   "id": "ac71726f",
   "metadata": {},
   "outputs": [
    {
     "data": {
      "text/plain": [
       "(IntSlider(value=10, description='a', max=30, min=-10),\n",
       " IntSlider(value=20, description='b', max=60, min=-20),\n",
       " Output())"
      ]
     },
     "execution_count": 36,
     "metadata": {},
     "output_type": "execute_result"
    }
   ],
   "source": [
    "w.children"
   ]
  },
  {
   "cell_type": "code",
   "execution_count": 38,
   "id": "dea25af7",
   "metadata": {},
   "outputs": [
    {
     "data": {
      "application/vnd.jupyter.widget-view+json": {
       "model_id": "a55dd94a4c0d46ebbe34d095dcb903b2",
       "version_major": 2,
       "version_minor": 0
      },
      "text/plain": [
       "interactive(children=(IntSlider(value=10, description='a', max=30, min=-10), IntSlider(value=20, description='…"
      ]
     },
     "metadata": {},
     "output_type": "display_data"
    }
   ],
   "source": [
    "display(w)"
   ]
  },
  {
   "cell_type": "markdown",
   "id": "3a21cb9b",
   "metadata": {},
   "source": [
    "# Python Widgets"
   ]
  },
  {
   "cell_type": "code",
   "execution_count": 40,
   "id": "827ad2c9",
   "metadata": {},
   "outputs": [],
   "source": [
    "import ipywidgets as widgets"
   ]
  },
  {
   "cell_type": "code",
   "execution_count": 41,
   "id": "bbf85a2c",
   "metadata": {},
   "outputs": [],
   "source": [
    "w = widgets.IntSlider()"
   ]
  },
  {
   "cell_type": "code",
   "execution_count": 42,
   "id": "75ecd9d5",
   "metadata": {},
   "outputs": [],
   "source": [
    "from IPython.display import display"
   ]
  },
  {
   "cell_type": "code",
   "execution_count": 43,
   "id": "9ece0664",
   "metadata": {},
   "outputs": [
    {
     "data": {
      "application/vnd.jupyter.widget-view+json": {
       "model_id": "",
       "version_major": 2,
       "version_minor": 0
      },
      "text/plain": [
       "IntSlider(value=0)"
      ]
     },
     "metadata": {},
     "output_type": "display_data"
    }
   ],
   "source": [
    "display(w)"
   ]
  },
  {
   "cell_type": "code",
   "execution_count": 44,
   "id": "c0276824",
   "metadata": {},
   "outputs": [
    {
     "data": {
      "application/vnd.jupyter.widget-view+json": {
       "model_id": "",
       "version_major": 2,
       "version_minor": 0
      },
      "text/plain": [
       "IntSlider(value=0)"
      ]
     },
     "metadata": {},
     "output_type": "display_data"
    }
   ],
   "source": [
    "#multiple display calls\n",
    "display(w)"
   ]
  },
  {
   "cell_type": "code",
   "execution_count": 45,
   "id": "fb03cc66",
   "metadata": {},
   "outputs": [],
   "source": [
    "#close a widget\n",
    "w.close() # won't see the widget after closing it"
   ]
  },
  {
   "cell_type": "code",
   "execution_count": 46,
   "id": "687b7a3b",
   "metadata": {},
   "outputs": [
    {
     "data": {
      "application/vnd.jupyter.widget-view+json": {
       "model_id": "71d77df5b5d744c3a4d694944ccf2c57",
       "version_major": 2,
       "version_minor": 0
      },
      "text/plain": [
       "IntSlider(value=0)"
      ]
     },
     "metadata": {},
     "output_type": "display_data"
    }
   ],
   "source": [
    "w = widgets.IntSlider()\n",
    "display(w)"
   ]
  },
  {
   "cell_type": "code",
   "execution_count": 48,
   "id": "2b08d6e2",
   "metadata": {},
   "outputs": [
    {
     "data": {
      "text/plain": [
       "26"
      ]
     },
     "execution_count": 48,
     "metadata": {},
     "output_type": "execute_result"
    }
   ],
   "source": [
    "w.value"
   ]
  },
  {
   "cell_type": "code",
   "execution_count": 49,
   "id": "f53e7c2f",
   "metadata": {},
   "outputs": [],
   "source": [
    "#reset the value\n",
    "w.value= 50"
   ]
  },
  {
   "cell_type": "code",
   "execution_count": 50,
   "id": "b66dc37c",
   "metadata": {},
   "outputs": [
    {
     "data": {
      "text/plain": [
       "['_dom_classes',\n",
       " '_model_module',\n",
       " '_model_module_version',\n",
       " '_model_name',\n",
       " '_view_count',\n",
       " '_view_module',\n",
       " '_view_module_version',\n",
       " '_view_name',\n",
       " 'continuous_update',\n",
       " 'description',\n",
       " 'description_tooltip',\n",
       " 'disabled',\n",
       " 'layout',\n",
       " 'max',\n",
       " 'min',\n",
       " 'orientation',\n",
       " 'readout',\n",
       " 'readout_format',\n",
       " 'step',\n",
       " 'style',\n",
       " 'value']"
      ]
     },
     "execution_count": 50,
     "metadata": {},
     "output_type": "execute_result"
    }
   ],
   "source": [
    "w.keys"
   ]
  },
  {
   "cell_type": "code",
   "execution_count": 51,
   "id": "9fa5268a",
   "metadata": {},
   "outputs": [],
   "source": [
    "w.max = 2000"
   ]
  },
  {
   "cell_type": "code",
   "execution_count": 56,
   "id": "2cf36c13",
   "metadata": {},
   "outputs": [
    {
     "data": {
      "application/vnd.jupyter.widget-view+json": {
       "model_id": "91819300331f432ebd720207fc856286",
       "version_major": 2,
       "version_minor": 0
      },
      "text/plain": [
       "FloatText(value=0.0)"
      ]
     },
     "metadata": {},
     "output_type": "display_data"
    },
    {
     "data": {
      "application/vnd.jupyter.widget-view+json": {
       "model_id": "333d56de371f456891618e559733b5ef",
       "version_major": 2,
       "version_minor": 0
      },
      "text/plain": [
       "FloatSlider(value=0.0)"
      ]
     },
     "metadata": {},
     "output_type": "display_data"
    }
   ],
   "source": [
    "a = widgets.FloatText()\n",
    "b = widgets.FloatSlider()\n",
    "\n",
    "display(a, b)\n",
    "\n",
    "mylink = widgets.jslink((a,'value'), (b, 'value'))\n",
    "#mylink = widgets.jslink((a,'value'), (b, 'max'))"
   ]
  },
  {
   "cell_type": "markdown",
   "id": "6ffe7beb",
   "metadata": {},
   "source": [
    "# Widget List"
   ]
  },
  {
   "cell_type": "code",
   "execution_count": 62,
   "id": "27b2b08a",
   "metadata": {},
   "outputs": [
    {
     "name": "stdout",
     "output_type": "stream",
     "text": [
      "('@jupyter-widgets/base', '1.2.0', 'LayoutModel', '@jupyter-widgets/base', '1.2.0', 'LayoutView')\n",
      "('@jupyter-widgets/controls', '1.5.0', 'AccordionModel', '@jupyter-widgets/controls', '1.5.0', 'AccordionView')\n",
      "('@jupyter-widgets/controls', '1.5.0', 'AudioModel', '@jupyter-widgets/controls', '1.5.0', 'AudioView')\n",
      "('@jupyter-widgets/controls', '1.5.0', 'BoundedFloatTextModel', '@jupyter-widgets/controls', '1.5.0', 'FloatTextView')\n",
      "('@jupyter-widgets/controls', '1.5.0', 'BoundedIntTextModel', '@jupyter-widgets/controls', '1.5.0', 'IntTextView')\n",
      "('@jupyter-widgets/controls', '1.5.0', 'BoxModel', '@jupyter-widgets/controls', '1.5.0', 'BoxView')\n",
      "('@jupyter-widgets/controls', '1.5.0', 'ButtonModel', '@jupyter-widgets/controls', '1.5.0', 'ButtonView')\n",
      "('@jupyter-widgets/controls', '1.5.0', 'ButtonStyleModel', '@jupyter-widgets/base', '1.2.0', 'StyleView')\n",
      "('@jupyter-widgets/controls', '1.5.0', 'CheckboxModel', '@jupyter-widgets/controls', '1.5.0', 'CheckboxView')\n",
      "('@jupyter-widgets/controls', '1.5.0', 'ColorPickerModel', '@jupyter-widgets/controls', '1.5.0', 'ColorPickerView')\n",
      "('@jupyter-widgets/controls', '1.5.0', 'ComboboxModel', '@jupyter-widgets/controls', '1.5.0', 'ComboboxView')\n",
      "('@jupyter-widgets/controls', '1.5.0', 'ControllerAxisModel', '@jupyter-widgets/controls', '1.5.0', 'ControllerAxisView')\n",
      "('@jupyter-widgets/controls', '1.5.0', 'ControllerButtonModel', '@jupyter-widgets/controls', '1.5.0', 'ControllerButtonView')\n",
      "('@jupyter-widgets/controls', '1.5.0', 'ControllerModel', '@jupyter-widgets/controls', '1.5.0', 'ControllerView')\n",
      "('@jupyter-widgets/controls', '1.5.0', 'DOMWidgetModel', '@jupyter-widgets/controls', '1.5.0', None)\n",
      "('@jupyter-widgets/controls', '1.5.0', 'DatePickerModel', '@jupyter-widgets/controls', '1.5.0', 'DatePickerView')\n",
      "('@jupyter-widgets/controls', '1.5.0', 'DescriptionStyleModel', '@jupyter-widgets/base', '1.2.0', 'StyleView')\n",
      "('@jupyter-widgets/controls', '1.5.0', 'DirectionalLinkModel', '@jupyter-widgets/controls', '1.5.0', None)\n",
      "('@jupyter-widgets/controls', '1.5.0', 'DropdownModel', '@jupyter-widgets/controls', '1.5.0', 'DropdownView')\n",
      "('@jupyter-widgets/controls', '1.5.0', 'FileUploadModel', '@jupyter-widgets/controls', '1.5.0', 'FileUploadView')\n",
      "('@jupyter-widgets/controls', '1.5.0', 'FloatLogSliderModel', '@jupyter-widgets/controls', '1.5.0', 'FloatLogSliderView')\n",
      "('@jupyter-widgets/controls', '1.5.0', 'FloatProgressModel', '@jupyter-widgets/controls', '1.5.0', 'ProgressView')\n",
      "('@jupyter-widgets/controls', '1.5.0', 'FloatRangeSliderModel', '@jupyter-widgets/controls', '1.5.0', 'FloatRangeSliderView')\n",
      "('@jupyter-widgets/controls', '1.5.0', 'FloatSliderModel', '@jupyter-widgets/controls', '1.5.0', 'FloatSliderView')\n",
      "('@jupyter-widgets/controls', '1.5.0', 'FloatTextModel', '@jupyter-widgets/controls', '1.5.0', 'FloatTextView')\n",
      "('@jupyter-widgets/controls', '1.5.0', 'GridBoxModel', '@jupyter-widgets/controls', '1.5.0', 'GridBoxView')\n",
      "('@jupyter-widgets/controls', '1.5.0', 'HBoxModel', '@jupyter-widgets/controls', '1.5.0', 'HBoxView')\n",
      "('@jupyter-widgets/controls', '1.5.0', 'HTMLMathModel', '@jupyter-widgets/controls', '1.5.0', 'HTMLMathView')\n",
      "('@jupyter-widgets/controls', '1.5.0', 'HTMLModel', '@jupyter-widgets/controls', '1.5.0', 'HTMLView')\n",
      "('@jupyter-widgets/controls', '1.5.0', 'ImageModel', '@jupyter-widgets/controls', '1.5.0', 'ImageView')\n",
      "('@jupyter-widgets/controls', '1.5.0', 'IntProgressModel', '@jupyter-widgets/controls', '1.5.0', 'ProgressView')\n",
      "('@jupyter-widgets/controls', '1.5.0', 'IntRangeSliderModel', '@jupyter-widgets/controls', '1.5.0', 'IntRangeSliderView')\n",
      "('@jupyter-widgets/controls', '1.5.0', 'IntSliderModel', '@jupyter-widgets/controls', '1.5.0', 'IntSliderView')\n",
      "('@jupyter-widgets/controls', '1.5.0', 'IntTextModel', '@jupyter-widgets/controls', '1.5.0', 'IntTextView')\n",
      "('@jupyter-widgets/controls', '1.5.0', 'LabelModel', '@jupyter-widgets/controls', '1.5.0', 'LabelView')\n",
      "('@jupyter-widgets/controls', '1.5.0', 'LinkModel', '@jupyter-widgets/controls', '1.5.0', None)\n",
      "('@jupyter-widgets/controls', '1.5.0', 'PasswordModel', '@jupyter-widgets/controls', '1.5.0', 'PasswordView')\n",
      "('@jupyter-widgets/controls', '1.5.0', 'PlayModel', '@jupyter-widgets/controls', '1.5.0', 'PlayView')\n",
      "('@jupyter-widgets/controls', '1.5.0', 'ProgressStyleModel', '@jupyter-widgets/base', '1.2.0', 'StyleView')\n",
      "('@jupyter-widgets/controls', '1.5.0', 'RadioButtonsModel', '@jupyter-widgets/controls', '1.5.0', 'RadioButtonsView')\n",
      "('@jupyter-widgets/controls', '1.5.0', 'SelectModel', '@jupyter-widgets/controls', '1.5.0', 'SelectView')\n",
      "('@jupyter-widgets/controls', '1.5.0', 'SelectMultipleModel', '@jupyter-widgets/controls', '1.5.0', 'SelectMultipleView')\n",
      "('@jupyter-widgets/controls', '1.5.0', 'SelectionRangeSliderModel', '@jupyter-widgets/controls', '1.5.0', 'SelectionRangeSliderView')\n",
      "('@jupyter-widgets/controls', '1.5.0', 'SelectionSliderModel', '@jupyter-widgets/controls', '1.5.0', 'SelectionSliderView')\n",
      "('@jupyter-widgets/controls', '1.5.0', 'SliderStyleModel', '@jupyter-widgets/base', '1.2.0', 'StyleView')\n",
      "('@jupyter-widgets/controls', '1.5.0', 'TabModel', '@jupyter-widgets/controls', '1.5.0', 'TabView')\n",
      "('@jupyter-widgets/controls', '1.5.0', 'TextModel', '@jupyter-widgets/controls', '1.5.0', 'TextView')\n",
      "('@jupyter-widgets/controls', '1.5.0', 'TextareaModel', '@jupyter-widgets/controls', '1.5.0', 'TextareaView')\n",
      "('@jupyter-widgets/controls', '1.5.0', 'ToggleButtonModel', '@jupyter-widgets/controls', '1.5.0', 'ToggleButtonView')\n",
      "('@jupyter-widgets/controls', '1.5.0', 'ToggleButtonsModel', '@jupyter-widgets/controls', '1.5.0', 'ToggleButtonsView')\n",
      "('@jupyter-widgets/controls', '1.5.0', 'ToggleButtonsStyleModel', '@jupyter-widgets/base', '1.2.0', 'StyleView')\n",
      "('@jupyter-widgets/controls', '1.5.0', 'VBoxModel', '@jupyter-widgets/controls', '1.5.0', 'VBoxView')\n",
      "('@jupyter-widgets/controls', '1.5.0', 'ValidModel', '@jupyter-widgets/controls', '1.5.0', 'ValidView')\n",
      "('@jupyter-widgets/controls', '1.5.0', 'VideoModel', '@jupyter-widgets/controls', '1.5.0', 'VideoView')\n",
      "('@jupyter-widgets/output', '1.0.0', 'OutputModel', '@jupyter-widgets/output', '1.0.0', 'OutputView')\n"
     ]
    }
   ],
   "source": [
    "import ipywidgets as widgets\n",
    "\n",
    "#show all available widgets\n",
    "\n",
    "for item in widgets.Widget.widget_types.items():\n",
    "    print(item[0])"
   ]
  },
  {
   "cell_type": "code",
   "execution_count": null,
   "id": "de7f1002",
   "metadata": {},
   "outputs": [],
   "source": []
  },
  {
   "cell_type": "code",
   "execution_count": null,
   "id": "991307fa",
   "metadata": {},
   "outputs": [],
   "source": []
  }
 ],
 "metadata": {
  "kernelspec": {
   "display_name": "Python 3 (ipykernel)",
   "language": "python",
   "name": "python3"
  },
  "language_info": {
   "codemirror_mode": {
    "name": "ipython",
    "version": 3
   },
   "file_extension": ".py",
   "mimetype": "text/x-python",
   "name": "python",
   "nbconvert_exporter": "python",
   "pygments_lexer": "ipython3",
   "version": "3.9.12"
  }
 },
 "nbformat": 4,
 "nbformat_minor": 5
}
