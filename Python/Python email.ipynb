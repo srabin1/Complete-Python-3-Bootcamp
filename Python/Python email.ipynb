{
 "cells": [
  {
   "cell_type": "markdown",
   "id": "aa6cc8b7",
   "metadata": {},
   "source": [
    "# Python and Email"
   ]
  },
  {
   "cell_type": "code",
   "execution_count": 1,
   "id": "e323cb02",
   "metadata": {},
   "outputs": [],
   "source": [
    "import smtplib"
   ]
  },
  {
   "cell_type": "code",
   "execution_count": 2,
   "id": "8bfb9c2a",
   "metadata": {},
   "outputs": [],
   "source": [
    "smtp_object = smtplib.SMTP('smtp.gmail.com', 587) #587 is the port number"
   ]
  },
  {
   "cell_type": "code",
   "execution_count": 3,
   "id": "420bd162",
   "metadata": {},
   "outputs": [
    {
     "data": {
      "text/plain": [
       "(250,\n",
       " b'smtp.gmail.com at your service, [2600:1700:e940:2570:cca6:f1aa:b9eb:eaa7]\\nSIZE 35882577\\n8BITMIME\\nSTARTTLS\\nENHANCEDSTATUSCODES\\nPIPELINING\\nCHUNKING\\nSMTPUTF8')"
      ]
     },
     "execution_count": 3,
     "metadata": {},
     "output_type": "execute_result"
    }
   ],
   "source": [
    "smtp_object.ehlo()"
   ]
  },
  {
   "cell_type": "code",
   "execution_count": 4,
   "id": "9007e888",
   "metadata": {},
   "outputs": [
    {
     "data": {
      "text/plain": [
       "(220, b'2.0.0 Ready to start TLS')"
      ]
     },
     "execution_count": 4,
     "metadata": {},
     "output_type": "execute_result"
    }
   ],
   "source": [
    "smtp_object.starttls()"
   ]
  },
  {
   "cell_type": "code",
   "execution_count": 5,
   "id": "af62ebb3",
   "metadata": {},
   "outputs": [],
   "source": [
    "#don't print your password"
   ]
  },
  {
   "cell_type": "code",
   "execution_count": 6,
   "id": "ecb3facc",
   "metadata": {},
   "outputs": [
    {
     "name": "stdout",
     "output_type": "stream",
     "text": [
      "What is your password: visible password\n"
     ]
    }
   ],
   "source": [
    "password = input('What is your password: ')"
   ]
  },
  {
   "cell_type": "code",
   "execution_count": 7,
   "id": "ecdc12e1",
   "metadata": {},
   "outputs": [],
   "source": [
    "import getpass"
   ]
  },
  {
   "cell_type": "code",
   "execution_count": 9,
   "id": "8637ae4e",
   "metadata": {},
   "outputs": [
    {
     "name": "stdout",
     "output_type": "stream",
     "text": [
      "Password please: ········\n"
     ]
    }
   ],
   "source": [
    "password = getpass.getpass('Password please: ') #secure way to pass information"
   ]
  },
  {
   "cell_type": "code",
   "execution_count": 10,
   "id": "7807a8cb",
   "metadata": {},
   "outputs": [],
   "source": [
    "# this is specifically for gmail users"
   ]
  },
  {
   "cell_type": "code",
   "execution_count": 14,
   "id": "e280f831",
   "metadata": {},
   "outputs": [
    {
     "name": "stdout",
     "output_type": "stream",
     "text": [
      "Email: ········\n"
     ]
    }
   ],
   "source": [
    "email = getpass.getpass(\"Email: \")"
   ]
  },
  {
   "cell_type": "code",
   "execution_count": 12,
   "id": "9e7bbd9f",
   "metadata": {},
   "outputs": [
    {
     "name": "stdout",
     "output_type": "stream",
     "text": [
      "Password: ········\n"
     ]
    }
   ],
   "source": [
    "password = getpass.getpass(\"Password: \")"
   ]
  },
  {
   "cell_type": "code",
   "execution_count": 16,
   "id": "28743992",
   "metadata": {},
   "outputs": [],
   "source": [
    "#smtp_object.login(email, password)"
   ]
  },
  {
   "cell_type": "code",
   "execution_count": null,
   "id": "f784877d",
   "metadata": {},
   "outputs": [],
   "source": []
  }
 ],
 "metadata": {
  "kernelspec": {
   "display_name": "Python 3 (ipykernel)",
   "language": "python",
   "name": "python3"
  },
  "language_info": {
   "codemirror_mode": {
    "name": "ipython",
    "version": 3
   },
   "file_extension": ".py",
   "mimetype": "text/x-python",
   "name": "python",
   "nbconvert_exporter": "python",
   "pygments_lexer": "ipython3",
   "version": "3.9.12"
  }
 },
 "nbformat": 4,
 "nbformat_minor": 5
}
