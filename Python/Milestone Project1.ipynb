{
 "cells": [
  {
   "cell_type": "markdown",
   "id": "4dff52e9",
   "metadata": {},
   "source": [
    "# Milestone porject1"
   ]
  },
  {
   "cell_type": "markdown",
   "id": "31f58d86",
   "metadata": {},
   "source": [
    "# Tik Tak Toe board"
   ]
  },
  {
   "cell_type": "code",
   "execution_count": 1,
   "id": "c9d36219",
   "metadata": {},
   "outputs": [
    {
     "name": "stdout",
     "output_type": "stream",
     "text": [
      "[1, 2, 3]\n"
     ]
    }
   ],
   "source": [
    "print([1,2,3])"
   ]
  },
  {
   "cell_type": "code",
   "execution_count": 2,
   "id": "2b30715d",
   "metadata": {},
   "outputs": [
    {
     "name": "stdout",
     "output_type": "stream",
     "text": [
      "[1, 2, 3]\n",
      "[4, 5, 6]\n",
      "[7, 8, 9]\n"
     ]
    }
   ],
   "source": [
    "print([1,2,3])\n",
    "print([4, 5, 6])\n",
    "print([7, 8, 9])"
   ]
  },
  {
   "cell_type": "code",
   "execution_count": 3,
   "id": "8137e146",
   "metadata": {},
   "outputs": [],
   "source": [
    "def display(row1, row2, row3):\n",
    "    print(row1)\n",
    "    print(row2)\n",
    "    print(row3)"
   ]
  },
  {
   "cell_type": "code",
   "execution_count": 5,
   "id": "e50b15c6",
   "metadata": {},
   "outputs": [],
   "source": [
    "row1 = [' ',' ', ' ']\n",
    "row2 = [' ',' ', ' ']\n",
    "row3 = [' ',' ', ' ']"
   ]
  },
  {
   "cell_type": "code",
   "execution_count": 6,
   "id": "8a992e71",
   "metadata": {},
   "outputs": [
    {
     "name": "stdout",
     "output_type": "stream",
     "text": [
      "[' ', ' ', ' ']\n",
      "[' ', ' ', ' ']\n",
      "[' ', ' ', ' ']\n"
     ]
    }
   ],
   "source": [
    "display(row1, row2, row3)"
   ]
  },
  {
   "cell_type": "code",
   "execution_count": 7,
   "id": "42dc532a",
   "metadata": {},
   "outputs": [],
   "source": [
    "row2[1]= 'X'"
   ]
  },
  {
   "cell_type": "code",
   "execution_count": 8,
   "id": "aa952e1c",
   "metadata": {},
   "outputs": [
    {
     "name": "stdout",
     "output_type": "stream",
     "text": [
      "[' ', ' ', ' ']\n",
      "[' ', 'X', ' ']\n",
      "[' ', ' ', ' ']\n"
     ]
    }
   ],
   "source": [
    "display(row1, row2, row3)"
   ]
  },
  {
   "cell_type": "code",
   "execution_count": 9,
   "id": "918c78b9",
   "metadata": {},
   "outputs": [],
   "source": [
    "#Accepting user input"
   ]
  },
  {
   "cell_type": "code",
   "execution_count": 10,
   "id": "3cbd1d52",
   "metadata": {},
   "outputs": [
    {
     "name": "stdout",
     "output_type": "stream",
     "text": [
      "Please Enter a value: 2\n"
     ]
    },
    {
     "data": {
      "text/plain": [
       "'2'"
      ]
     },
     "execution_count": 10,
     "metadata": {},
     "output_type": "execute_result"
    }
   ],
   "source": [
    "input(\"Please Enter a value: \")"
   ]
  },
  {
   "cell_type": "code",
   "execution_count": 11,
   "id": "95a47e2f",
   "metadata": {},
   "outputs": [
    {
     "name": "stdout",
     "output_type": "stream",
     "text": [
      "Please enter a value: 2\n"
     ]
    }
   ],
   "source": [
    "result = input(\"Please enter a value: \")"
   ]
  },
  {
   "cell_type": "code",
   "execution_count": 12,
   "id": "2eb3eae2",
   "metadata": {},
   "outputs": [
    {
     "data": {
      "text/plain": [
       "'2'"
      ]
     },
     "execution_count": 12,
     "metadata": {},
     "output_type": "execute_result"
    }
   ],
   "source": [
    "result"
   ]
  },
  {
   "cell_type": "code",
   "execution_count": 13,
   "id": "0cb35c89",
   "metadata": {},
   "outputs": [
    {
     "data": {
      "text/plain": [
       "str"
      ]
     },
     "execution_count": 13,
     "metadata": {},
     "output_type": "execute_result"
    }
   ],
   "source": [
    "type(result )"
   ]
  },
  {
   "cell_type": "code",
   "execution_count": 14,
   "id": "27852354",
   "metadata": {},
   "outputs": [],
   "source": [
    "result_int= int(result)"
   ]
  },
  {
   "cell_type": "code",
   "execution_count": 15,
   "id": "b781f15e",
   "metadata": {},
   "outputs": [
    {
     "data": {
      "text/plain": [
       "int"
      ]
     },
     "execution_count": 15,
     "metadata": {},
     "output_type": "execute_result"
    }
   ],
   "source": [
    "type(result_int)"
   ]
  },
  {
   "cell_type": "code",
   "execution_count": 17,
   "id": "669cc409",
   "metadata": {},
   "outputs": [
    {
     "name": "stdout",
     "output_type": "stream",
     "text": [
      "Choose an index position: 1\n"
     ]
    }
   ],
   "source": [
    "position_index = int(input(\"Choose an index position: \"))"
   ]
  },
  {
   "cell_type": "code",
   "execution_count": 18,
   "id": "a6a7fbc4",
   "metadata": {},
   "outputs": [
    {
     "data": {
      "text/plain": [
       "' '"
      ]
     },
     "execution_count": 18,
     "metadata": {},
     "output_type": "execute_result"
    }
   ],
   "source": [
    "row1[position_index]"
   ]
  },
  {
   "cell_type": "code",
   "execution_count": 24,
   "id": "495667dd",
   "metadata": {},
   "outputs": [],
   "source": [
    "def user_choice():\n",
    "    choice = input(\"Please enter a number (0-10): \")\n",
    "    return int(choice)"
   ]
  },
  {
   "cell_type": "code",
   "execution_count": 23,
   "id": "ba3eafd8",
   "metadata": {},
   "outputs": [
    {
     "name": "stdout",
     "output_type": "stream",
     "text": [
      "Please enter a number (0-10): 11\n"
     ]
    },
    {
     "data": {
      "text/plain": [
       "11"
      ]
     },
     "execution_count": 23,
     "metadata": {},
     "output_type": "execute_result"
    }
   ],
   "source": [
    "user_choice()"
   ]
  },
  {
   "cell_type": "code",
   "execution_count": 38,
   "id": "585aabf3",
   "metadata": {},
   "outputs": [],
   "source": [
    "def user_choice():\n",
    "    #validating user's input\n",
    "    choice= 'Wrong'\n",
    "    while choice.isdigit() == False:\n",
    "        choice = input(\"Please enter a number (0-10): \")\n",
    "        if choice.isdigit() ==False:\n",
    "            print(\"Sorry that is not a digit!\")\n",
    "                   \n",
    "    return int(choice)"
   ]
  },
  {
   "cell_type": "code",
   "execution_count": 39,
   "id": "832d5a43",
   "metadata": {},
   "outputs": [
    {
     "name": "stdout",
     "output_type": "stream",
     "text": [
      "Please enter a number (0-10): two\n",
      "Sorry that is not a digit!\n",
      "Please enter a number (0-10): 3\n"
     ]
    },
    {
     "data": {
      "text/plain": [
       "3"
      ]
     },
     "execution_count": 39,
     "metadata": {},
     "output_type": "execute_result"
    }
   ],
   "source": [
    "user_choice()"
   ]
  },
  {
   "cell_type": "code",
   "execution_count": 34,
   "id": "9393f38c",
   "metadata": {},
   "outputs": [],
   "source": [
    "result = 'Wrong value'"
   ]
  },
  {
   "cell_type": "code",
   "execution_count": 35,
   "id": "62acf919",
   "metadata": {},
   "outputs": [],
   "source": [
    "acceptable_values= [0,1,2]"
   ]
  },
  {
   "cell_type": "code",
   "execution_count": 36,
   "id": "f86bb0f1",
   "metadata": {},
   "outputs": [
    {
     "data": {
      "text/plain": [
       "False"
      ]
     },
     "execution_count": 36,
     "metadata": {},
     "output_type": "execute_result"
    }
   ],
   "source": [
    "result in acceptable_values"
   ]
  },
  {
   "cell_type": "code",
   "execution_count": 37,
   "id": "81bc33cf",
   "metadata": {},
   "outputs": [
    {
     "data": {
      "text/plain": [
       "True"
      ]
     },
     "execution_count": 37,
     "metadata": {},
     "output_type": "execute_result"
    }
   ],
   "source": [
    "result not in acceptable_values"
   ]
  },
  {
   "cell_type": "code",
   "execution_count": 27,
   "id": "1949155b",
   "metadata": {},
   "outputs": [],
   "source": [
    "some_value = '100'"
   ]
  },
  {
   "cell_type": "code",
   "execution_count": 28,
   "id": "4823b7cb",
   "metadata": {},
   "outputs": [
    {
     "data": {
      "text/plain": [
       "True"
      ]
     },
     "execution_count": 28,
     "metadata": {},
     "output_type": "execute_result"
    }
   ],
   "source": [
    "some_value.isdigit()"
   ]
  },
  {
   "cell_type": "code",
   "execution_count": 29,
   "id": "f1daec35",
   "metadata": {},
   "outputs": [
    {
     "data": {
      "text/plain": [
       "100"
      ]
     },
     "execution_count": 29,
     "metadata": {},
     "output_type": "execute_result"
    }
   ],
   "source": [
    "int(some_value)"
   ]
  },
  {
   "cell_type": "code",
   "execution_count": 45,
   "id": "c2f0011a",
   "metadata": {},
   "outputs": [],
   "source": [
    "def user_choice():\n",
    "    #variables\n",
    "    \n",
    "    \n",
    "    #initial\n",
    "    choice= 'Wrong'\n",
    "    acceptable_range = range(0,10)\n",
    "    within_range = False\n",
    "    \n",
    "    #Two conditions to check: Digit or within_range == False\n",
    "    while choice.isdigit() == False or within_range==False:\n",
    "        choice = input(\"Please enter a number (0-10): \")\n",
    "        \n",
    "        #Digit check\n",
    "        if choice.isdigit() == False:\n",
    "            print(\"Sorry that is not a digit!\")\n",
    "        #Range check\n",
    "        if choice.isdigit()==True:\n",
    "            if int(choice) in acceptable_range:\n",
    "                within_range = True\n",
    "            else:\n",
    "                print(\"Sorry, you are out of acceptable range (0-10)\")\n",
    "                within_range = False\n",
    "            \n",
    "    return int(choice)"
   ]
  },
  {
   "cell_type": "code",
   "execution_count": 46,
   "id": "abb7cce2",
   "metadata": {},
   "outputs": [
    {
     "name": "stdout",
     "output_type": "stream",
     "text": [
      "Please enter a number (0-10): two \n",
      "Sorry that is not a digit!\n",
      "Please enter a number (0-10): 19\n",
      "Sorry, you are out of acceptable range (0-10)\n",
      "Please enter a number (0-10): 5\n"
     ]
    },
    {
     "data": {
      "text/plain": [
       "5"
      ]
     },
     "execution_count": 46,
     "metadata": {},
     "output_type": "execute_result"
    }
   ],
   "source": [
    "user_choice()"
   ]
  },
  {
   "cell_type": "markdown",
   "id": "ef5d82e3",
   "metadata": {},
   "source": [
    "# Creating our own game"
   ]
  },
  {
   "cell_type": "code",
   "execution_count": 47,
   "id": "832e8958",
   "metadata": {},
   "outputs": [],
   "source": [
    "game_list = [0, 1, 2]"
   ]
  },
  {
   "cell_type": "code",
   "execution_count": 48,
   "id": "cbbdd207",
   "metadata": {},
   "outputs": [],
   "source": [
    "def display_game(game_list):\n",
    "    print(\"Here is the current list:\")\n",
    "    print(game_list)"
   ]
  },
  {
   "cell_type": "code",
   "execution_count": 49,
   "id": "da5edf93",
   "metadata": {},
   "outputs": [
    {
     "name": "stdout",
     "output_type": "stream",
     "text": [
      "Here is the current list:\n",
      "[0, 1, 2]\n"
     ]
    }
   ],
   "source": [
    "display_game(game_list)"
   ]
  },
  {
   "cell_type": "code",
   "execution_count": 50,
   "id": "fa64de9a",
   "metadata": {},
   "outputs": [],
   "source": [
    "def position_choice():\n",
    "    \n",
    "    choice = 'wrong'\n",
    "    while choice not in ['0', '1', '2']:\n",
    "        \n",
    "        choice =input(\"Pick a position (0, 1, 2): \")\n",
    "        \n",
    "        if choice not in ['0', '1', '2']:\n",
    "            print(\"Sorry, invalid choice! \")\n",
    "            \n",
    "    return int(choice)"
   ]
  },
  {
   "cell_type": "code",
   "execution_count": 52,
   "id": "488f43a4",
   "metadata": {},
   "outputs": [
    {
     "name": "stdout",
     "output_type": "stream",
     "text": [
      "Pick a position (0, 1, 2): two\n",
      "Sorry, invalid choice! \n",
      "Pick a position (0, 1, 2): 7\n",
      "Sorry, invalid choice! \n",
      "Pick a position (0, 1, 2): 1\n"
     ]
    },
    {
     "data": {
      "text/plain": [
       "1"
      ]
     },
     "execution_count": 52,
     "metadata": {},
     "output_type": "execute_result"
    }
   ],
   "source": [
    "position_choice()"
   ]
  },
  {
   "cell_type": "code",
   "execution_count": 53,
   "id": "e85827c5",
   "metadata": {},
   "outputs": [],
   "source": [
    "def replacement_choice(game_list, position):\n",
    "    \n",
    "    user_placement = input(\"Type a string to place at position: \")\n",
    "    \n",
    "    game_list[position] = user_placement\n",
    "    \n",
    "    return game_list"
   ]
  },
  {
   "cell_type": "code",
   "execution_count": 54,
   "id": "53c4e975",
   "metadata": {},
   "outputs": [
    {
     "name": "stdout",
     "output_type": "stream",
     "text": [
      "Type a string to place at position: test\n"
     ]
    },
    {
     "data": {
      "text/plain": [
       "[0, 'test', 2]"
      ]
     },
     "execution_count": 54,
     "metadata": {},
     "output_type": "execute_result"
    }
   ],
   "source": [
    "replacement_choice(game_list, 1)"
   ]
  },
  {
   "cell_type": "code",
   "execution_count": 55,
   "id": "fff464c4",
   "metadata": {},
   "outputs": [],
   "source": [
    "def gameon_choice():\n",
    "    \n",
    "    choice = 'wrong'\n",
    "    while choice not in ['Y', 'N']:\n",
    "        \n",
    "        choice =input(\"Keep playing? (Y or N) \")\n",
    "        \n",
    "        if choice not in ['Y', 'N']:\n",
    "            print(\"Sorry, I dont understand. Please choose Y or N \")\n",
    "            \n",
    "    if choice =='Y':\n",
    "        return True\n",
    "    else:\n",
    "        return False"
   ]
  },
  {
   "cell_type": "code",
   "execution_count": 56,
   "id": "66727755",
   "metadata": {},
   "outputs": [
    {
     "name": "stdout",
     "output_type": "stream",
     "text": [
      "Keep playing? (Y or N) N\n"
     ]
    },
    {
     "data": {
      "text/plain": [
       "False"
      ]
     },
     "execution_count": 56,
     "metadata": {},
     "output_type": "execute_result"
    }
   ],
   "source": [
    "gameon_choice()"
   ]
  },
  {
   "cell_type": "code",
   "execution_count": 58,
   "id": "fe398ac9",
   "metadata": {},
   "outputs": [
    {
     "name": "stdout",
     "output_type": "stream",
     "text": [
      "Here is the current list:\n",
      "[0, 1, 2]\n",
      "Pick a position (0, 1, 2): two\n",
      "Sorry, invalid choice! \n",
      "Pick a position (0, 1, 2): 1\n",
      "Type a string to place at position: my choice\n",
      "Here is the current list:\n",
      "[0, 'my choice', 2]\n",
      "Keep playing? (Y or N) Y\n",
      "Here is the current list:\n",
      "[0, 'my choice', 2]\n",
      "Pick a position (0, 1, 2): 0\n",
      "Type a string to place at position: test\n",
      "Here is the current list:\n",
      "['test', 'my choice', 2]\n",
      "Keep playing? (Y or N) N\n"
     ]
    }
   ],
   "source": [
    "game_on= True\n",
    "game_list = [0, 1, 2]\n",
    "\n",
    "while game_on == True:\n",
    "    display_game(game_list)\n",
    "    \n",
    "    position = position_choice()\n",
    "    \n",
    "    game_list = replacement_choice(game_list, position)\n",
    "    \n",
    "    display_game(game_list)\n",
    "    \n",
    "    game_on = gameon_choice()   \n"
   ]
  },
  {
   "cell_type": "code",
   "execution_count": null,
   "id": "c0b571ff",
   "metadata": {},
   "outputs": [],
   "source": []
  }
 ],
 "metadata": {
  "kernelspec": {
   "display_name": "Python 3 (ipykernel)",
   "language": "python",
   "name": "python3"
  },
  "language_info": {
   "codemirror_mode": {
    "name": "ipython",
    "version": 3
   },
   "file_extension": ".py",
   "mimetype": "text/x-python",
   "name": "python",
   "nbconvert_exporter": "python",
   "pygments_lexer": "ipython3",
   "version": "3.9.12"
  }
 },
 "nbformat": 4,
 "nbformat_minor": 5
}
