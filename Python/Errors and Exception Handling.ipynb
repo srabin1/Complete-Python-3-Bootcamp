{
 "cells": [
  {
   "cell_type": "markdown",
   "id": "6571969e",
   "metadata": {},
   "source": [
    "# Errors and Exception Handling"
   ]
  },
  {
   "cell_type": "code",
   "execution_count": 1,
   "id": "b2b3fb33",
   "metadata": {},
   "outputs": [],
   "source": [
    "def add(n1, n2):\n",
    "    print(n1 + n2)"
   ]
  },
  {
   "cell_type": "code",
   "execution_count": 2,
   "id": "47528615",
   "metadata": {},
   "outputs": [
    {
     "name": "stdout",
     "output_type": "stream",
     "text": [
      "30\n"
     ]
    }
   ],
   "source": [
    "add(10,20)"
   ]
  },
  {
   "cell_type": "code",
   "execution_count": 3,
   "id": "ac5147cf",
   "metadata": {},
   "outputs": [],
   "source": [
    "number1 = 10"
   ]
  },
  {
   "cell_type": "code",
   "execution_count": 4,
   "id": "160506d5",
   "metadata": {},
   "outputs": [
    {
     "name": "stdout",
     "output_type": "stream",
     "text": [
      "Please provide a number: 20\n"
     ]
    }
   ],
   "source": [
    "number2 = input(\"Please provide a number: \")"
   ]
  },
  {
   "cell_type": "code",
   "execution_count": 6,
   "id": "9e05fb3d",
   "metadata": {},
   "outputs": [
    {
     "ename": "TypeError",
     "evalue": "unsupported operand type(s) for +: 'int' and 'str'",
     "output_type": "error",
     "traceback": [
      "\u001b[1;31m---------------------------------------------------------------------------\u001b[0m",
      "\u001b[1;31mTypeError\u001b[0m                                 Traceback (most recent call last)",
      "Input \u001b[1;32mIn [6]\u001b[0m, in \u001b[0;36m<cell line: 1>\u001b[1;34m()\u001b[0m\n\u001b[1;32m----> 1\u001b[0m \u001b[43madd\u001b[49m\u001b[43m(\u001b[49m\u001b[43mnumber1\u001b[49m\u001b[43m,\u001b[49m\u001b[43m \u001b[49m\u001b[43mnumber2\u001b[49m\u001b[43m)\u001b[49m\n\u001b[0;32m      2\u001b[0m \u001b[38;5;28mprint\u001b[39m(\u001b[38;5;124m\"\u001b[39m\u001b[38;5;124mSomething happened!\u001b[39m\u001b[38;5;124m\"\u001b[39m)\n",
      "Input \u001b[1;32mIn [1]\u001b[0m, in \u001b[0;36madd\u001b[1;34m(n1, n2)\u001b[0m\n\u001b[0;32m      1\u001b[0m \u001b[38;5;28;01mdef\u001b[39;00m \u001b[38;5;21madd\u001b[39m(n1, n2):\n\u001b[1;32m----> 2\u001b[0m     \u001b[38;5;28mprint\u001b[39m(\u001b[43mn1\u001b[49m\u001b[43m \u001b[49m\u001b[38;5;241;43m+\u001b[39;49m\u001b[43m \u001b[49m\u001b[43mn2\u001b[49m)\n",
      "\u001b[1;31mTypeError\u001b[0m: unsupported operand type(s) for +: 'int' and 'str'"
     ]
    }
   ],
   "source": [
    "add(number1, number2) #will throw an exception, number 1 is int and number 2 is string\n",
    "print(\"Something happened!\")"
   ]
  },
  {
   "cell_type": "code",
   "execution_count": 8,
   "id": "a4aa56b1",
   "metadata": {},
   "outputs": [],
   "source": [
    "try:\n",
    "    #want to attempt this code\n",
    "    #may have an error\n",
    "    result = 10 + 10 \n",
    "except:\n",
    "    print(\"Hey it looks like you aren't adding correctly!\")"
   ]
  },
  {
   "cell_type": "code",
   "execution_count": 9,
   "id": "91da2047",
   "metadata": {},
   "outputs": [
    {
     "data": {
      "text/plain": [
       "20"
      ]
     },
     "execution_count": 9,
     "metadata": {},
     "output_type": "execute_result"
    }
   ],
   "source": [
    "result"
   ]
  },
  {
   "cell_type": "code",
   "execution_count": 10,
   "id": "b7d7621e",
   "metadata": {},
   "outputs": [
    {
     "name": "stdout",
     "output_type": "stream",
     "text": [
      "Hey it looks like you aren't adding correctly!\n"
     ]
    }
   ],
   "source": [
    "try:\n",
    "    #want to attempt this code\n",
    "    #may have an error\n",
    "    result = 10 + '10'\n",
    "except:\n",
    "    print(\"Hey it looks like you aren't adding correctly!\")"
   ]
  },
  {
   "cell_type": "code",
   "execution_count": 12,
   "id": "fb2da2dd",
   "metadata": {},
   "outputs": [
    {
     "name": "stdout",
     "output_type": "stream",
     "text": [
      "Add went well!\n",
      "20\n"
     ]
    }
   ],
   "source": [
    "try:\n",
    "    #want to attempt this code\n",
    "    #may have an error\n",
    "    result = 10 + 10\n",
    "except:\n",
    "    print(\"Hey it looks like you aren't adding correctly!\")\n",
    "else:\n",
    "    print(\"Add went well!\")\n",
    "    print(result)"
   ]
  },
  {
   "cell_type": "markdown",
   "id": "4b0a645b",
   "metadata": {},
   "source": [
    "# try, except, finally"
   ]
  },
  {
   "cell_type": "code",
   "execution_count": 13,
   "id": "9235f19f",
   "metadata": {},
   "outputs": [
    {
     "name": "stdout",
     "output_type": "stream",
     "text": [
      "I always run\n"
     ]
    }
   ],
   "source": [
    "try:\n",
    "    f = open('testfile','w')\n",
    "    f.write(\"write a test file\")\n",
    "    \n",
    "except TypeError: #only if there is a TypeError\n",
    "    print(\"There was a type error\")\n",
    "except OSError:\n",
    "    print(\"Hey you have an OS Error\")\n",
    "finally:\n",
    "    print(\"I always run\")"
   ]
  },
  {
   "cell_type": "code",
   "execution_count": 14,
   "id": "6f063dd2",
   "metadata": {},
   "outputs": [
    {
     "name": "stdout",
     "output_type": "stream",
     "text": [
      "Hey you have an OS Error\n",
      "I always run\n"
     ]
    }
   ],
   "source": [
    "try:\n",
    "    f = open('testfile','r')\n",
    "    f.write(\"write a test file\")\n",
    "    \n",
    "except TypeError: #only if there is a TypeError\n",
    "    print(\"There was a type error!\")\n",
    "except OSError:\n",
    "    print(\"Hey you have an OS Error!\")\n",
    "finally:\n",
    "    print(\"I always run\")"
   ]
  },
  {
   "cell_type": "code",
   "execution_count": 16,
   "id": "f943f593",
   "metadata": {},
   "outputs": [
    {
     "name": "stdout",
     "output_type": "stream",
     "text": [
      "All other exceptions!\n",
      "I always run\n"
     ]
    }
   ],
   "source": [
    "try:\n",
    "    f = open('testfile','r')\n",
    "    f.write(\"write a test file\")\n",
    "    \n",
    "except TypeError: #only if there is a TypeError\n",
    "    print(\"There was a type error\")\n",
    "except:\n",
    "    print(\"All other exceptions!\")\n",
    "finally:\n",
    "    print(\"I always run\")"
   ]
  },
  {
   "cell_type": "code",
   "execution_count": null,
   "id": "2bf5f315",
   "metadata": {},
   "outputs": [],
   "source": []
  },
  {
   "cell_type": "code",
   "execution_count": 17,
   "id": "affe234f",
   "metadata": {},
   "outputs": [],
   "source": [
    "def ask_for_int():\n",
    "    try:\n",
    "        result = int(input(\"Please provide number: \"))\n",
    "    except:\n",
    "        print(\"whoops! That is not a number\")\n",
    "    finally:\n",
    "        print(\"End of try/except/finally\")\n",
    "    "
   ]
  },
  {
   "cell_type": "code",
   "execution_count": 20,
   "id": "b8f89c10",
   "metadata": {},
   "outputs": [
    {
     "name": "stdout",
     "output_type": "stream",
     "text": [
      "Please provide number: re\n",
      "whoops! That is not a number\n",
      "End of try/except/finally\n"
     ]
    }
   ],
   "source": [
    "ask_for_int()"
   ]
  },
  {
   "cell_type": "code",
   "execution_count": 26,
   "id": "78321feb",
   "metadata": {},
   "outputs": [],
   "source": [
    "def ask_for_int():\n",
    "    while True:\n",
    "        try:\n",
    "            result = int(input(\"Please provide number: \"))\n",
    "        except:\n",
    "            print(\"whoops! That is not a number\")\n",
    "            continue\n",
    "        else: # there is no exception\n",
    "            print(\"Yes, thank you\")\n",
    "            break # break the while loop\n",
    "        finally:\n",
    "            print(\"End of try/except/finally\")\n",
    "            print(\"I will ask you again\\n!\")"
   ]
  },
  {
   "cell_type": "code",
   "execution_count": 24,
   "id": "2b657c1e",
   "metadata": {},
   "outputs": [
    {
     "name": "stdout",
     "output_type": "stream",
     "text": [
      "Please provide number: 20\n",
      "Yes, thank you\n",
      "End of try/except/finally\n",
      "I will always run at the end!\n"
     ]
    }
   ],
   "source": [
    "ask_for_int()"
   ]
  },
  {
   "cell_type": "code",
   "execution_count": 27,
   "id": "2b1234d8",
   "metadata": {},
   "outputs": [
    {
     "name": "stdout",
     "output_type": "stream",
     "text": [
      "Please provide number: teo\n",
      "whoops! That is not a number\n",
      "End of try/except/finally\n",
      "I will ask you again\n",
      "!\n",
      "Please provide number: thee\n",
      "whoops! That is not a number\n",
      "End of try/except/finally\n",
      "I will ask you again\n",
      "!\n",
      "Please provide number: 30\n",
      "Yes, thank you\n",
      "End of try/except/finally\n",
      "I will ask you again\n",
      "!\n"
     ]
    }
   ],
   "source": [
    "ask_for_int()"
   ]
  },
  {
   "cell_type": "code",
   "execution_count": null,
   "id": "48620e8f",
   "metadata": {},
   "outputs": [],
   "source": []
  }
 ],
 "metadata": {
  "kernelspec": {
   "display_name": "Python 3 (ipykernel)",
   "language": "python",
   "name": "python3"
  },
  "language_info": {
   "codemirror_mode": {
    "name": "ipython",
    "version": 3
   },
   "file_extension": ".py",
   "mimetype": "text/x-python",
   "name": "python",
   "nbconvert_exporter": "python",
   "pygments_lexer": "ipython3",
   "version": "3.9.12"
  }
 },
 "nbformat": 4,
 "nbformat_minor": 5
}
