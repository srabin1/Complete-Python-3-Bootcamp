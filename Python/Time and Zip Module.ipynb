{
 "cells": [
  {
   "cell_type": "markdown",
   "id": "eee3ea65",
   "metadata": {},
   "source": [
    "# Python Timing and Zipping Module"
   ]
  },
  {
   "cell_type": "code",
   "execution_count": 4,
   "id": "4afa01a4",
   "metadata": {},
   "outputs": [],
   "source": [
    "def func_one(n):\n",
    "    return [str(num) for num in range(n)]"
   ]
  },
  {
   "cell_type": "code",
   "execution_count": 5,
   "id": "c36d1c87",
   "metadata": {},
   "outputs": [
    {
     "data": {
      "text/plain": [
       "['0', '1', '2', '3', '4', '5', '6', '7', '8', '9']"
      ]
     },
     "execution_count": 5,
     "metadata": {},
     "output_type": "execute_result"
    }
   ],
   "source": [
    "func_one(10)"
   ]
  },
  {
   "cell_type": "code",
   "execution_count": 10,
   "id": "fc0d0185",
   "metadata": {},
   "outputs": [],
   "source": [
    "def func_two(n):\n",
    "    return list(map(str,range(n)))"
   ]
  },
  {
   "cell_type": "code",
   "execution_count": 11,
   "id": "d77c8dbd",
   "metadata": {},
   "outputs": [
    {
     "data": {
      "text/plain": [
       "['0', '1', '2', '3', '4', '5', '6', '7', '8', '9']"
      ]
     },
     "execution_count": 11,
     "metadata": {},
     "output_type": "execute_result"
    }
   ],
   "source": [
    "func_two(10)"
   ]
  },
  {
   "cell_type": "code",
   "execution_count": 12,
   "id": "98421bc9",
   "metadata": {},
   "outputs": [],
   "source": [
    "#which one of the above functions is more efficient?\n",
    "# by using time library"
   ]
  },
  {
   "cell_type": "code",
   "execution_count": 13,
   "id": "5befdc27",
   "metadata": {},
   "outputs": [],
   "source": [
    "import time"
   ]
  },
  {
   "cell_type": "code",
   "execution_count": 14,
   "id": "4788785b",
   "metadata": {},
   "outputs": [
    {
     "name": "stdout",
     "output_type": "stream",
     "text": [
      "0.13552618026733398\n"
     ]
    }
   ],
   "source": [
    "#Current time before\n",
    "start_time = time.time()\n",
    "#Run code\n",
    "result = func_one(1000000)\n",
    "#Current time after running code\n",
    "end_time = time.time()\n",
    "#Elapsed time\n",
    "elapsed_time = end_time - start_time\n",
    "\n",
    "print(elapsed_time)"
   ]
  },
  {
   "cell_type": "code",
   "execution_count": 15,
   "id": "1d3316f4",
   "metadata": {},
   "outputs": [
    {
     "name": "stdout",
     "output_type": "stream",
     "text": [
      "0.11999011039733887\n"
     ]
    }
   ],
   "source": [
    "#Current time before\n",
    "start_time = time.time()\n",
    "#Run code\n",
    "result = func_two(1000000)\n",
    "#Current time after running code\n",
    "end_time = time.time()\n",
    "#Elapsed time\n",
    "elapsed_time = end_time - start_time\n",
    "\n",
    "print(elapsed_time)"
   ]
  },
  {
   "cell_type": "code",
   "execution_count": null,
   "id": "505ab450",
   "metadata": {},
   "outputs": [],
   "source": [
    "#function two is faster than function one"
   ]
  },
  {
   "cell_type": "markdown",
   "id": "6f57e93e",
   "metadata": {},
   "source": [
    "# Timer Module"
   ]
  },
  {
   "cell_type": "code",
   "execution_count": 16,
   "id": "525e61d7",
   "metadata": {},
   "outputs": [],
   "source": [
    "import timeit"
   ]
  },
  {
   "cell_type": "code",
   "execution_count": 18,
   "id": "82ebe08b",
   "metadata": {},
   "outputs": [],
   "source": [
    "stmt = '''\n",
    "func_one(100)\n",
    "'''"
   ]
  },
  {
   "cell_type": "code",
   "execution_count": 19,
   "id": "d5185dff",
   "metadata": {},
   "outputs": [],
   "source": [
    "setup = '''\n",
    "def func_one(n):\n",
    "    return [str(num) for num in range(n)]\n",
    "'''"
   ]
  },
  {
   "cell_type": "code",
   "execution_count": 20,
   "id": "04e31100",
   "metadata": {},
   "outputs": [
    {
     "data": {
      "text/plain": [
       "0.9746735999999601"
      ]
     },
     "execution_count": 20,
     "metadata": {},
     "output_type": "execute_result"
    }
   ],
   "source": [
    "timeit.timeit(stmt, setup, number=100000)"
   ]
  },
  {
   "cell_type": "code",
   "execution_count": 24,
   "id": "5d785aaa",
   "metadata": {},
   "outputs": [],
   "source": [
    "stmt2 = '''\n",
    "func_two(100)\n",
    "'''"
   ]
  },
  {
   "cell_type": "code",
   "execution_count": 25,
   "id": "d705cf9a",
   "metadata": {},
   "outputs": [],
   "source": [
    "setup2 = '''\n",
    "def func_two(n):\n",
    "    return list(map(str,range(n)))\n",
    "'''"
   ]
  },
  {
   "cell_type": "code",
   "execution_count": 26,
   "id": "8c4f0d6e",
   "metadata": {},
   "outputs": [
    {
     "data": {
      "text/plain": [
       "0.7991664999999557"
      ]
     },
     "execution_count": 26,
     "metadata": {},
     "output_type": "execute_result"
    }
   ],
   "source": [
    "timeit.timeit(stmt2, setup2, number = 100000)"
   ]
  },
  {
   "cell_type": "code",
   "execution_count": 28,
   "id": "817e3b10",
   "metadata": {},
   "outputs": [],
   "source": [
    "# the main difference between first approach and time Module is that\n",
    "# in the first approach we don't have a good percision for samll input like (10)\n",
    "# but in time module we repeat the same process like 100000 times for the\n",
    "# same input and get the average and have a very fair comparison"
   ]
  },
  {
   "cell_type": "code",
   "execution_count": 29,
   "id": "036de2ee",
   "metadata": {},
   "outputs": [],
   "source": [
    "#Magic method: only works on Jupyter Notebook"
   ]
  },
  {
   "cell_type": "code",
   "execution_count": 30,
   "id": "baf17d28",
   "metadata": {},
   "outputs": [
    {
     "name": "stdout",
     "output_type": "stream",
     "text": [
      "9.91 µs ± 82.3 ns per loop (mean ± std. dev. of 7 runs, 100,000 loops each)\n"
     ]
    }
   ],
   "source": [
    "%%timeit\n",
    "func_one(100)"
   ]
  },
  {
   "cell_type": "code",
   "execution_count": 31,
   "id": "1ff1618f",
   "metadata": {},
   "outputs": [
    {
     "name": "stdout",
     "output_type": "stream",
     "text": [
      "7.93 µs ± 21.2 ns per loop (mean ± std. dev. of 7 runs, 100,000 loops each)\n"
     ]
    }
   ],
   "source": [
    "%%timeit\n",
    "func_two(100)"
   ]
  },
  {
   "cell_type": "code",
   "execution_count": 32,
   "id": "df1b4ec5",
   "metadata": {},
   "outputs": [],
   "source": [
    "# so function two is faster"
   ]
  },
  {
   "cell_type": "code",
   "execution_count": null,
   "id": "8618fb79",
   "metadata": {},
   "outputs": [],
   "source": []
  },
  {
   "cell_type": "markdown",
   "id": "35f86f24",
   "metadata": {},
   "source": [
    "# Zipping and Unzipping files"
   ]
  },
  {
   "cell_type": "code",
   "execution_count": 34,
   "id": "5ad2f95f",
   "metadata": {},
   "outputs": [],
   "source": [
    "f = open('fileone.txt', 'w+')\n",
    "f.write('One File')\n",
    "f.close()"
   ]
  },
  {
   "cell_type": "code",
   "execution_count": 35,
   "id": "cb39160a",
   "metadata": {},
   "outputs": [],
   "source": [
    "f = open('filetwo.txt', 'w+')\n",
    "f.write('Two File')\n",
    "f.close()"
   ]
  },
  {
   "cell_type": "code",
   "execution_count": 36,
   "id": "86438a38",
   "metadata": {},
   "outputs": [],
   "source": [
    "import zipfile"
   ]
  },
  {
   "cell_type": "code",
   "execution_count": 38,
   "id": "7f477542",
   "metadata": {},
   "outputs": [],
   "source": [
    "#create the zip file first\n",
    "comp_file = zipfile.ZipFile('comp_file.zip', 'w') #ZipFile is capitalized"
   ]
  },
  {
   "cell_type": "code",
   "execution_count": 40,
   "id": "4ff1dbc9",
   "metadata": {},
   "outputs": [
    {
     "name": "stderr",
     "output_type": "stream",
     "text": [
      "C:\\Users\\sanaz\\anaconda3\\lib\\zipfile.py:1514: UserWarning: Duplicate name: 'fileone.txt'\n",
      "  return self._open_to_write(zinfo, force_zip64=force_zip64)\n"
     ]
    }
   ],
   "source": [
    "comp_file.write('fileone.txt',compress_type = zipfile.ZIP_DEFLATED)"
   ]
  },
  {
   "cell_type": "code",
   "execution_count": 41,
   "id": "2e5a0ef9",
   "metadata": {},
   "outputs": [],
   "source": [
    "comp_file.write('filetwo.txt',compress_type = zipfile.ZIP_DEFLATED)"
   ]
  },
  {
   "cell_type": "code",
   "execution_count": 42,
   "id": "1384844e",
   "metadata": {},
   "outputs": [],
   "source": [
    "comp_file.close()"
   ]
  },
  {
   "cell_type": "code",
   "execution_count": 43,
   "id": "b5a44b0f",
   "metadata": {},
   "outputs": [],
   "source": [
    "#extract something from zip file"
   ]
  },
  {
   "cell_type": "code",
   "execution_count": 44,
   "id": "0b64b9c5",
   "metadata": {},
   "outputs": [],
   "source": [
    "zip_obj= zipfile.ZipFile('comp_file.zip','r')"
   ]
  },
  {
   "cell_type": "code",
   "execution_count": 45,
   "id": "0d9a7bb1",
   "metadata": {},
   "outputs": [],
   "source": [
    "zip_obj.extractall('extracted_content')"
   ]
  },
  {
   "cell_type": "code",
   "execution_count": 46,
   "id": "8be965e2",
   "metadata": {},
   "outputs": [
    {
     "data": {
      "text/plain": [
       "'C:\\\\Users\\\\sanaz\\\\Python'"
      ]
     },
     "execution_count": 46,
     "metadata": {},
     "output_type": "execute_result"
    }
   ],
   "source": [
    "pwd"
   ]
  },
  {
   "cell_type": "code",
   "execution_count": 47,
   "id": "48de17df",
   "metadata": {},
   "outputs": [],
   "source": [
    "import shutil"
   ]
  },
  {
   "cell_type": "code",
   "execution_count": 48,
   "id": "5f69adcd",
   "metadata": {},
   "outputs": [],
   "source": [
    "#turn extracted_content folder into a zip file"
   ]
  },
  {
   "cell_type": "code",
   "execution_count": 49,
   "id": "1b2ca101",
   "metadata": {},
   "outputs": [],
   "source": [
    "dir_to_zip = 'C:\\\\Users\\\\sanaz\\\\Python\\\\extracted_content'"
   ]
  },
  {
   "cell_type": "code",
   "execution_count": 50,
   "id": "9e9dbd60",
   "metadata": {},
   "outputs": [],
   "source": [
    "output_filename = 'example'"
   ]
  },
  {
   "cell_type": "code",
   "execution_count": 51,
   "id": "00b1af50",
   "metadata": {},
   "outputs": [
    {
     "data": {
      "text/plain": [
       "'C:\\\\Users\\\\sanaz\\\\Python\\\\example.zip'"
      ]
     },
     "execution_count": 51,
     "metadata": {},
     "output_type": "execute_result"
    }
   ],
   "source": [
    "shutil.make_archive(output_filename, 'zip', dir_to_zip)"
   ]
  },
  {
   "cell_type": "code",
   "execution_count": 52,
   "id": "8b2de2bd",
   "metadata": {},
   "outputs": [],
   "source": [
    "shutil.unpack_archive('example.zip', 'final_unzip', 'zip')"
   ]
  },
  {
   "cell_type": "code",
   "execution_count": null,
   "id": "172e9afe",
   "metadata": {},
   "outputs": [],
   "source": []
  }
 ],
 "metadata": {
  "kernelspec": {
   "display_name": "Python 3 (ipykernel)",
   "language": "python",
   "name": "python3"
  },
  "language_info": {
   "codemirror_mode": {
    "name": "ipython",
    "version": 3
   },
   "file_extension": ".py",
   "mimetype": "text/x-python",
   "name": "python",
   "nbconvert_exporter": "python",
   "pygments_lexer": "ipython3",
   "version": "3.9.12"
  }
 },
 "nbformat": 4,
 "nbformat_minor": 5
}
