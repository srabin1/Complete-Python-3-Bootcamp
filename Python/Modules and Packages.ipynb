{
 "cells": [
  {
   "cell_type": "markdown",
   "id": "e80120a3",
   "metadata": {},
   "source": [
    "# Modules and packages"
   ]
  },
  {
   "cell_type": "code",
   "execution_count": 1,
   "id": "94e309d5",
   "metadata": {},
   "outputs": [],
   "source": [
    "from colorama import Fore"
   ]
  },
  {
   "cell_type": "code",
   "execution_count": 2,
   "id": "9c129fb5",
   "metadata": {},
   "outputs": [
    {
     "name": "stdout",
     "output_type": "stream",
     "text": [
      "\u001b[31msome red text\n"
     ]
    }
   ],
   "source": [
    "print(Fore.RED +\"some red text\")"
   ]
  },
  {
   "cell_type": "code",
   "execution_count": 3,
   "id": "1f80609d",
   "metadata": {},
   "outputs": [
    {
     "name": "stdout",
     "output_type": "stream",
     "text": [
      "\u001b[32mswitch to green\n"
     ]
    }
   ],
   "source": [
    "print(Fore.GREEN +\"switch to green\")"
   ]
  },
  {
   "cell_type": "code",
   "execution_count": null,
   "id": "c1506077",
   "metadata": {},
   "outputs": [],
   "source": [
    "import openpyxl"
   ]
  }
 ],
 "metadata": {
  "kernelspec": {
   "display_name": "Python 3 (ipykernel)",
   "language": "python",
   "name": "python3"
  },
  "language_info": {
   "codemirror_mode": {
    "name": "ipython",
    "version": 3
   },
   "file_extension": ".py",
   "mimetype": "text/x-python",
   "name": "python",
   "nbconvert_exporter": "python",
   "pygments_lexer": "ipython3",
   "version": "3.9.12"
  }
 },
 "nbformat": 4,
 "nbformat_minor": 5
}
