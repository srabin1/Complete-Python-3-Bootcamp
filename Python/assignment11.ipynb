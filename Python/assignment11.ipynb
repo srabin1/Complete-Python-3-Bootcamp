{
 "cells": [
  {
   "cell_type": "code",
   "execution_count": 1,
   "id": "96835859",
   "metadata": {},
   "outputs": [],
   "source": [
    "import csv"
   ]
  },
  {
   "cell_type": "code",
   "execution_count": 2,
   "id": "06a602e8",
   "metadata": {},
   "outputs": [],
   "source": [
    "data = open('Exercise_files/find_the_link.csv', encoding = 'utf-8')"
   ]
  },
  {
   "cell_type": "code",
   "execution_count": 3,
   "id": "4ef4a481",
   "metadata": {},
   "outputs": [],
   "source": [
    "csv_data = csv.reader(data)"
   ]
  },
  {
   "cell_type": "code",
   "execution_count": 4,
   "id": "72479ffa",
   "metadata": {},
   "outputs": [],
   "source": [
    "data_lines = list(csv_data)"
   ]
  },
  {
   "cell_type": "code",
   "execution_count": 8,
   "id": "e877a2b0",
   "metadata": {},
   "outputs": [],
   "source": [
    "#data_lines[1]"
   ]
  },
  {
   "cell_type": "code",
   "execution_count": 11,
   "id": "6e1f73a1",
   "metadata": {},
   "outputs": [],
   "source": [
    "# find items such that (Hint: Its along the diagonal from top left to bottom right)."
   ]
  },
  {
   "cell_type": "code",
   "execution_count": 13,
   "id": "aaf7a84f",
   "metadata": {},
   "outputs": [],
   "source": [
    "link_str =''\n",
    "\n",
    "for row_num, data in enumerate(data_lines):\n",
    "    link_str +=data[row_num]"
   ]
  },
  {
   "cell_type": "code",
   "execution_count": 14,
   "id": "fdf5ec0f",
   "metadata": {},
   "outputs": [
    {
     "data": {
      "text/plain": [
       "'https://drive.google.com/open?id=1G6SEgg018UB4_4xsAJJ5TdzrhmXipr4Q'"
      ]
     },
     "execution_count": 14,
     "metadata": {},
     "output_type": "execute_result"
    }
   ],
   "source": [
    "link_str"
   ]
  },
  {
   "cell_type": "code",
   "execution_count": 15,
   "id": "d6cd7758",
   "metadata": {},
   "outputs": [],
   "source": [
    "import PyPDF4"
   ]
  },
  {
   "cell_type": "code",
   "execution_count": 16,
   "id": "b2d539a8",
   "metadata": {},
   "outputs": [],
   "source": [
    "f = open('Exercise_Files/Find_the_Phone_Number.pdf', 'rb')"
   ]
  },
  {
   "cell_type": "code",
   "execution_count": 17,
   "id": "4d7a930d",
   "metadata": {},
   "outputs": [],
   "source": [
    "pdf = PyPDF4.PdfFileReader(f)"
   ]
  },
  {
   "cell_type": "code",
   "execution_count": 18,
   "id": "48213fc6",
   "metadata": {},
   "outputs": [
    {
     "data": {
      "text/plain": [
       "17"
      ]
     },
     "execution_count": 18,
     "metadata": {},
     "output_type": "execute_result"
    }
   ],
   "source": [
    "pdf.numPages"
   ]
  },
  {
   "cell_type": "code",
   "execution_count": 19,
   "id": "f051c2c8",
   "metadata": {},
   "outputs": [],
   "source": [
    "# start to discove three digits in a row for phone number"
   ]
  },
  {
   "cell_type": "code",
   "execution_count": 28,
   "id": "f8da70e9",
   "metadata": {},
   "outputs": [],
   "source": [
    "import re"
   ]
  },
  {
   "cell_type": "code",
   "execution_count": 37,
   "id": "af9160e1",
   "metadata": {},
   "outputs": [],
   "source": [
    "pattern = r'\\d{3}'"
   ]
  },
  {
   "cell_type": "code",
   "execution_count": 38,
   "id": "eecb101c",
   "metadata": {},
   "outputs": [],
   "source": [
    "all_text = ''\n",
    "\n",
    "for n in range(pdf.numPages):\n",
    "    \n",
    "    page = pdf.getPage(n)\n",
    "    page_text  = page.extractText()\n",
    "    \n",
    "    all_text = all_text +' '+ page_text"
   ]
  },
  {
   "cell_type": "code",
   "execution_count": 26,
   "id": "0d8194a5",
   "metadata": {},
   "outputs": [],
   "source": [
    "#all_text"
   ]
  },
  {
   "cell_type": "code",
   "execution_count": 39,
   "id": "1aa88bee",
   "metadata": {},
   "outputs": [
    {
     "data": {
      "text/plain": [
       "<re.Match object; span=(655, 658), match='000'>"
      ]
     },
     "execution_count": 39,
     "metadata": {},
     "output_type": "execute_result"
    }
   ],
   "source": [
    "re.search(pattern, all_text)"
   ]
  },
  {
   "cell_type": "code",
   "execution_count": 40,
   "id": "bd13522f",
   "metadata": {},
   "outputs": [
    {
     "data": {
      "text/plain": [
       "['000', '000', '000', '505', '503', '445']"
      ]
     },
     "execution_count": 40,
     "metadata": {},
     "output_type": "execute_result"
    }
   ],
   "source": [
    "re.findall(pattern, all_text)"
   ]
  },
  {
   "cell_type": "code",
   "execution_count": 41,
   "id": "5b0f0283",
   "metadata": {},
   "outputs": [
    {
     "name": "stdout",
     "output_type": "stream",
     "text": [
      "<re.Match object; span=(655, 658), match='000'>\n",
      "<re.Match object; span=(17805, 17808), match='000'>\n",
      "<re.Match object; span=(35059, 35062), match='000'>\n",
      "<re.Match object; span=(41808, 41811), match='505'>\n",
      "<re.Match object; span=(41812, 41815), match='503'>\n",
      "<re.Match object; span=(41816, 41819), match='445'>\n"
     ]
    }
   ],
   "source": [
    "for match in re.finditer(pattern, all_text):\n",
    "    print(match)"
   ]
  },
  {
   "cell_type": "code",
   "execution_count": 42,
   "id": "380f06f6",
   "metadata": {},
   "outputs": [
    {
     "data": {
      "text/plain": [
       "'505.503.4455. So hor'"
      ]
     },
     "execution_count": 42,
     "metadata": {},
     "output_type": "execute_result"
    }
   ],
   "source": [
    "all_text[41808: 41808 + 20]"
   ]
  },
  {
   "cell_type": "code",
   "execution_count": 43,
   "id": "0f917304",
   "metadata": {},
   "outputs": [],
   "source": [
    "#now we have a clue that how a phone number look like. so we update the pattern"
   ]
  },
  {
   "cell_type": "code",
   "execution_count": 44,
   "id": "a14446bb",
   "metadata": {},
   "outputs": [],
   "source": [
    "pattern = r'\\d{3}.\\d{3}.\\d{4}'"
   ]
  },
  {
   "cell_type": "code",
   "execution_count": 45,
   "id": "5d343648",
   "metadata": {},
   "outputs": [],
   "source": [
    "all_text = ''\n",
    "\n",
    "for n in range(pdf.numPages):\n",
    "    \n",
    "    page = pdf.getPage(n)\n",
    "    page_text  = page.extractText()\n",
    "    \n",
    "    all_text = all_text +' '+ page_text"
   ]
  },
  {
   "cell_type": "code",
   "execution_count": 46,
   "id": "c4e75e5f",
   "metadata": {},
   "outputs": [
    {
     "name": "stdout",
     "output_type": "stream",
     "text": [
      "<re.Match object; span=(41808, 41820), match='505.503.4455'>\n"
     ]
    }
   ],
   "source": [
    "for match in re.finditer(pattern, all_text):\n",
    "    print(match)"
   ]
  },
  {
   "cell_type": "code",
   "execution_count": null,
   "id": "b69840b6",
   "metadata": {},
   "outputs": [],
   "source": []
  }
 ],
 "metadata": {
  "kernelspec": {
   "display_name": "Python 3 (ipykernel)",
   "language": "python",
   "name": "python3"
  },
  "language_info": {
   "codemirror_mode": {
    "name": "ipython",
    "version": 3
   },
   "file_extension": ".py",
   "mimetype": "text/x-python",
   "name": "python",
   "nbconvert_exporter": "python",
   "pygments_lexer": "ipython3",
   "version": "3.9.12"
  }
 },
 "nbformat": 4,
 "nbformat_minor": 5
}
