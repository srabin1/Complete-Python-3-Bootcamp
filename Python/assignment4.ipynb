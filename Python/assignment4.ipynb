{
 "cells": [
  {
   "cell_type": "code",
   "execution_count": 3,
   "id": "8657733a",
   "metadata": {},
   "outputs": [],
   "source": [
    "from math import pi\n",
    "def vol(radius):\n",
    "    return 4/3*pi* radius**3"
   ]
  },
  {
   "cell_type": "code",
   "execution_count": 4,
   "id": "015ff041",
   "metadata": {},
   "outputs": [
    {
     "data": {
      "text/plain": [
       "33.510321638291124"
      ]
     },
     "execution_count": 4,
     "metadata": {},
     "output_type": "execute_result"
    }
   ],
   "source": [
    "vol(2)"
   ]
  },
  {
   "cell_type": "code",
   "execution_count": 7,
   "id": "5580f61c",
   "metadata": {},
   "outputs": [],
   "source": [
    "def ran_check(num, low, high):\n",
    "    if low<= num<= high:\n",
    "        print(f'{num} is in the range between {low} and {high}')\n",
    "    else: \n",
    "        print(f'{num} is not in the range between {low} and {high}')"
   ]
  },
  {
   "cell_type": "code",
   "execution_count": 8,
   "id": "81c2b462",
   "metadata": {},
   "outputs": [
    {
     "name": "stdout",
     "output_type": "stream",
     "text": [
      "5 is in the range between 2 and 7\n"
     ]
    }
   ],
   "source": [
    "ran_check(5, 2, 7)"
   ]
  },
  {
   "cell_type": "code",
   "execution_count": 9,
   "id": "1725478d",
   "metadata": {},
   "outputs": [],
   "source": [
    "def ran_bool(num, low, high):\n",
    "    if low<= num<= high:\n",
    "        return True\n",
    "    else: \n",
    "        return False"
   ]
  },
  {
   "cell_type": "code",
   "execution_count": 10,
   "id": "a2c8a4b4",
   "metadata": {},
   "outputs": [
    {
     "data": {
      "text/plain": [
       "True"
      ]
     },
     "execution_count": 10,
     "metadata": {},
     "output_type": "execute_result"
    }
   ],
   "source": [
    "ran_bool(3, 1, 10)"
   ]
  },
  {
   "cell_type": "code",
   "execution_count": 25,
   "id": "df23b8c2",
   "metadata": {},
   "outputs": [],
   "source": [
    "def up_low(mystring):\n",
    "    count_upper =0\n",
    "    count_lower =0\n",
    "    \n",
    "    for word in mystring:\n",
    "        if word.isupper():\n",
    "            count_upper +=1\n",
    "        elif word.islower():\n",
    "            count_lower +=1\n",
    "            \n",
    "    print(f'No. of Upper case characters: {count_upper}\\nNo. of Lower case characters: {count_lower}')"
   ]
  },
  {
   "cell_type": "code",
   "execution_count": 26,
   "id": "27155fdb",
   "metadata": {},
   "outputs": [
    {
     "name": "stdout",
     "output_type": "stream",
     "text": [
      "No. of Upper case characters: 4\n",
      "No. of Lower case characters: 33\n"
     ]
    }
   ],
   "source": [
    "s = 'Hello Mr. Rogers, how are you this fine Tuesday?'\n",
    "up_low(s)"
   ]
  },
  {
   "cell_type": "code",
   "execution_count": 31,
   "id": "7a179724",
   "metadata": {},
   "outputs": [],
   "source": [
    "def unique_list(mylist):\n",
    "    for item in mylist:\n",
    "        return list(set(mylist))"
   ]
  },
  {
   "cell_type": "code",
   "execution_count": 32,
   "id": "c80a15ad",
   "metadata": {},
   "outputs": [
    {
     "data": {
      "text/plain": [
       "[1, 2, 3, 4, 5]"
      ]
     },
     "execution_count": 32,
     "metadata": {},
     "output_type": "execute_result"
    }
   ],
   "source": [
    "unique_list([1,1,1,1,2,2,3,3,3,3,4,5])"
   ]
  },
  {
   "cell_type": "code",
   "execution_count": 35,
   "id": "486002e2",
   "metadata": {},
   "outputs": [],
   "source": [
    "def multiply(mylist):\n",
    "    result =1\n",
    "    for item in mylist:\n",
    "        result = result * item\n",
    "    return result "
   ]
  },
  {
   "cell_type": "code",
   "execution_count": 36,
   "id": "a1ae60bd",
   "metadata": {},
   "outputs": [
    {
     "data": {
      "text/plain": [
       "-24"
      ]
     },
     "execution_count": 36,
     "metadata": {},
     "output_type": "execute_result"
    }
   ],
   "source": [
    "multiply([1,2,3,-4])"
   ]
  },
  {
   "cell_type": "code",
   "execution_count": 55,
   "id": "e615e072",
   "metadata": {},
   "outputs": [],
   "source": [
    "def palindrome(mystring):\n",
    "    for i in range(0,len(mystring)-1):\n",
    "        if mystring[i]==mystring[len(mystring)-1-i]:\n",
    "            return True\n",
    "        else:\n",
    "            return False"
   ]
  },
  {
   "cell_type": "code",
   "execution_count": 57,
   "id": "349c4673",
   "metadata": {},
   "outputs": [
    {
     "data": {
      "text/plain": [
       "True"
      ]
     },
     "execution_count": 57,
     "metadata": {},
     "output_type": "execute_result"
    }
   ],
   "source": [
    "palindrome('helleh')"
   ]
  },
  {
   "cell_type": "code",
   "execution_count": 85,
   "id": "147ade61",
   "metadata": {},
   "outputs": [],
   "source": [
    "import string\n",
    "\n",
    "def ispangram(str1): \n",
    "    alphabet=string.ascii_lowercase\n",
    "    alphaset= set(alphabet)\n",
    "    \n",
    "    str1 = str1.replace(\" \",'')\n",
    "    str1 = str1.lower()\n",
    "    str1 = set(str1)\n",
    "    return str1 ==alphaset\n",
    "    "
   ]
  },
  {
   "cell_type": "code",
   "execution_count": 86,
   "id": "29513492",
   "metadata": {},
   "outputs": [
    {
     "data": {
      "text/plain": [
       "True"
      ]
     },
     "execution_count": 86,
     "metadata": {},
     "output_type": "execute_result"
    }
   ],
   "source": [
    "ispangram(\"The quick brown fox jumps over the lazy dog\")"
   ]
  },
  {
   "cell_type": "code",
   "execution_count": 87,
   "id": "a0a05e22",
   "metadata": {},
   "outputs": [
    {
     "data": {
      "text/plain": [
       "False"
      ]
     },
     "execution_count": 87,
     "metadata": {},
     "output_type": "execute_result"
    }
   ],
   "source": [
    "ispangram(\"Te quick brown fox jumps over e lazy dog\")"
   ]
  }
 ],
 "metadata": {
  "kernelspec": {
   "display_name": "Python 3 (ipykernel)",
   "language": "python",
   "name": "python3"
  },
  "language_info": {
   "codemirror_mode": {
    "name": "ipython",
    "version": 3
   },
   "file_extension": ".py",
   "mimetype": "text/x-python",
   "name": "python",
   "nbconvert_exporter": "python",
   "pygments_lexer": "ipython3",
   "version": "3.9.12"
  }
 },
 "nbformat": 4,
 "nbformat_minor": 5
}
